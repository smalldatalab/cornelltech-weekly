{
 "cells": [
  {
   "cell_type": "markdown",
   "metadata": {},
   "source": [
    "# Preamble"
   ]
  },
  {
   "cell_type": "code",
   "execution_count": 1,
   "metadata": {},
   "outputs": [],
   "source": [
    "from IPython.display import display, Markdown, HTML"
   ]
  },
  {
   "cell_type": "markdown",
   "metadata": {},
   "source": [
    "# Make connection to Slack"
   ]
  },
  {
   "cell_type": "code",
   "execution_count": 2,
   "metadata": {},
   "outputs": [],
   "source": [
    "from private_config import SLACK_TOKEN"
   ]
  },
  {
   "cell_type": "code",
   "execution_count": 3,
   "metadata": {},
   "outputs": [],
   "source": [
    "from slackclient import SlackClient\n",
    "\n",
    "sc = SlackClient(SLACK_TOKEN)"
   ]
  },
  {
   "cell_type": "code",
   "execution_count": 4,
   "metadata": {},
   "outputs": [],
   "source": [
    "channel_info = sc.api_call(\"channels.list\")\n",
    "channels = channel_info['channels']"
   ]
  },
  {
   "cell_type": "code",
   "execution_count": 5,
   "metadata": {},
   "outputs": [
    {
     "data": {
      "text/plain": [
       "[(u'building_comments', u'C6GQ4GWMT'),\n",
       " (u'building-comments', u'C6GKKF7U2'),\n",
       " (u'cafe_comments', u'C6FCGM656'),\n",
       " (u'external_relations', u'C2CMBSDG8'),\n",
       " (u'general', u'C2CLS7MHC'),\n",
       " (u'movequestions', u'C3WHBE9JN'),\n",
       " (u'random', u'C2CM9H9BL'),\n",
       " (u'theatreclub', u'C2CLV66QG')]"
      ]
     },
     "execution_count": 5,
     "metadata": {},
     "output_type": "execute_result"
    }
   ],
   "source": [
    "[(k['name'], k['id']) for k in channels]"
   ]
  },
  {
   "cell_type": "code",
   "execution_count": 6,
   "metadata": {},
   "outputs": [],
   "source": [
    "users = sc.api_call(\"users.list\")\n",
    "users_map = dict([(x['id'], x['name']) for x in users['members']])"
   ]
  },
  {
   "cell_type": "markdown",
   "metadata": {},
   "source": [
    "# Get messages of interest\n",
    "\n",
    "(i.e. building_comments and cafe_comments from actual users)"
   ]
  },
  {
   "cell_type": "code",
   "execution_count": 7,
   "metadata": {},
   "outputs": [
    {
     "data": {
      "text/plain": [
       "{u'building_comments': u'C6GQ4GWMT', u'cafe_comments': u'C6FCGM656'}"
      ]
     },
     "execution_count": 7,
     "metadata": {},
     "output_type": "execute_result"
    }
   ],
   "source": [
    "included_channels = [u'building_comments', u'cafe_comments']\n",
    "channel_ids = dict([(k['name'], k['id']) for k in channels if k['name'] in included_channels])\n",
    "channel_ids"
   ]
  },
  {
   "cell_type": "code",
   "execution_count": 8,
   "metadata": {},
   "outputs": [
    {
     "name": "stdout",
     "output_type": "stream",
     "text": [
      "grabbing history for building_comments...\n",
      "grabbing history for cafe_comments...\n"
     ]
    }
   ],
   "source": [
    "channel_comments = {}\n",
    "\n",
    "for cid in channel_ids:\n",
    "    print \"grabbing history for %s...\" % cid\n",
    "    # grab the history for each\n",
    "    results = sc.api_call(\"channels.history\", channel=channel_ids[cid], count=1000)\n",
    "    channel_comments[cid] = results['messages']"
   ]
  },
  {
   "cell_type": "code",
   "execution_count": 131,
   "metadata": {},
   "outputs": [],
   "source": [
    "# this transformed version is used elsewhere\n",
    "chat_messages = [\n",
    "    msg for msg in reversed(channel_comments['cafe_comments'])\n",
    "    if msg['type'] == 'message' and 'subtype' not in msg and 'thread_ts' not in msg\n",
    "]"
   ]
  },
  {
   "cell_type": "code",
   "execution_count": 132,
   "metadata": {},
   "outputs": [
    {
     "data": {
      "text/plain": [
       "[{u'text': u'<@U58RD27SN> ',\n",
       "  u'ts': u'1501523716.028220',\n",
       "  u'type': u'message',\n",
       "  u'user': u'U4270RFH8'},\n",
       " {u'text': u'Hey ',\n",
       "  u'ts': u'1501540563.446092',\n",
       "  u'type': u'message',\n",
       "  u'user': u'U4270RFH8'},\n",
       " {u'text': u'<@U61K5FHQU> <@U58RD27SN> ',\n",
       "  u'ts': u'1501542130.920502',\n",
       "  u'type': u'message',\n",
       "  u'user': u'U4270RFH8'},\n",
       " {u'text': u'White bean soup was great',\n",
       "  u'ts': u'1501544428.546795',\n",
       "  u'type': u'message',\n",
       "  u'user': u'U61K5FHQU'},\n",
       " {u'text': u'Fresh peach was not edible ',\n",
       "  u'ts': u'1501544451.552736',\n",
       "  u'type': u'message',\n",
       "  u'user': u'U61K5FHQU'},\n",
       " {u'text': u'Double espresso was perfect',\n",
       "  u'ts': u'1501544461.555391',\n",
       "  u'type': u'message',\n",
       "  u'user': u'U61K5FHQU'},\n",
       " {u'reactions': [{u'count': 1, u'name': u'smile', u'users': [u'U2DULB5AA']}],\n",
       "  u'text': u'2nd day in a row of perfect espresso',\n",
       "  u'ts': u'1501607376.356084',\n",
       "  u'type': u'message',\n",
       "  u'user': u'U61K5FHQU'},\n",
       " {u'text': u'Studybot campus-survey',\n",
       "  u'ts': u'1501607451.399049',\n",
       "  u'type': u'message',\n",
       "  u'user': u'U61K5FHQU'},\n",
       " {u'text': u'studybot campus-survey',\n",
       "  u'ts': u'1501607495.425236',\n",
       "  u'type': u'message',\n",
       "  u'user': u'U61K5FHQU'},\n",
       " {u'text': u'Had a sandwich: turkey, mozzarella, all the veggies on multigrain.  It was very good.',\n",
       "  u'ts': u'1501611976.123582',\n",
       "  u'type': u'message',\n",
       "  u'user': u'U645T465C'},\n",
       " {u'text': u'made to order omelette: (turkey, onions, and peppers): well-seasoned and perfectly cooked. (the _only_ thing is the cafe is still waiting on hot sauce..) but other than that, glowing reviews for breakfast!',\n",
       "  u'ts': u'1501679253.577303',\n",
       "  u'type': u'message',\n",
       "  u'user': u'U2V4U28R2'},\n",
       " {u'reactions': [{u'count': 1, u'name': u'+1', u'users': [u'U4270RFH8']}],\n",
       "  u'text': u\"Coffee has been great, and I agree with julianakm - omelette is really good, and they're getting quicker are preparing them.\",\n",
       "  u'ts': u'1501681299.667108',\n",
       "  u'type': u'message',\n",
       "  u'user': u'U2CMFE8FJ'},\n",
       " {u'text': u'*at',\n",
       "  u'ts': u'1501681450.753082',\n",
       "  u'type': u'message',\n",
       "  u'user': u'U2CMFE8FJ'},\n",
       " {u'text': u\"I'm hoping they'll get some small protein salads free of starches/grains. (Like a small container of chicken salad, tuna, etc.) Quite a few people on campus are avoiding those for medical and health reasons so something quick &amp; protein-rich besides the full salad bar would be good.\",\n",
       "  u'ts': u'1501683898.284962',\n",
       "  u'type': u'message',\n",
       "  u'user': u'U2CM5PP0U'},\n",
       " {u'text': u'I suggest having an option for a cup of soup and a half salad.  My other suggestion is to have a shaker bottle of cinnamon to add to coffee.',\n",
       "  u'ts': u'1501684826.898181',\n",
       "  u'type': u'message',\n",
       "  u'user': u'U522B3YHZ'},\n",
       " {u'edited': {u'ts': u'1501690139.000000', u'user': u'U2CM9H6KC'},\n",
       "  u'reactions': [{u'count': 1, u'name': u'+1', u'users': [u'U2DULB5AA']}],\n",
       "  u'text': u\"I'd like to see coconut milk as another alternative milk option.\",\n",
       "  u'ts': u'1501689895.301226',\n",
       "  u'type': u'message',\n",
       "  u'user': u'U2CM9H6KC'},\n",
       " {u'text': u'Also, apple pay :slightly_smiling_face:',\n",
       "  u'ts': u'1501690031.386620',\n",
       "  u'type': u'message',\n",
       "  u'user': u'U2CM9H6KC'},\n",
       " {u'reactions': [{u'count': 2,\n",
       "    u'name': u'+1',\n",
       "    u'users': [u'U2CM5PP0U', u'U61K5FHQU']}],\n",
       "  u'text': u\"I would like to second <@U2CM9H6KC> 's request for an alternative milk options... and throw in a vote for Unsweetened Almond Milk (Throwback to #15th floor life)\",\n",
       "  u'ts': u'1501705963.635857',\n",
       "  u'type': u'message',\n",
       "  u'user': u'U2V4U28R2'},\n",
       " {u'reactions': [{u'count': 2,\n",
       "    u'name': u'+1',\n",
       "    u'users': [u'U2CM6HT2T', u'U61K5FHQU']}],\n",
       "  u'text': u'tomato bisque was :100:',\n",
       "  u'ts': u'1501784793.432709',\n",
       "  u'type': u'message',\n",
       "  u'user': u'U2CM5PP0U'},\n",
       " {u'reactions': [{u'count': 2,\n",
       "    u'name': u'joy',\n",
       "    u'users': [u'U2V4U28R2', u'U61K5FHQU']},\n",
       "   {u'count': 1, u'name': u'+1', u'users': [u'U2CM5PP0U']}],\n",
       "  u'text': u'I had a good fruit roll-up today.',\n",
       "  u'ts': u'1501789683.133530',\n",
       "  u'type': u'message',\n",
       "  u'user': u'U42B1CMHT'},\n",
       " {u'text': u'There be hot sauce now! :pray:',\n",
       "  u'ts': u'1501856381.390047',\n",
       "  u'type': u'message',\n",
       "  u'user': u'U2V4U28R2'},\n",
       " {u'text': u'Bagel everything was good',\n",
       "  u'ts': u'1501856606.517856',\n",
       "  u'type': u'message',\n",
       "  u'user': u'U42Q5K78U'},\n",
       " {u'text': u'Soups are generally very good',\n",
       "  u'ts': u'1501856624.528429',\n",
       "  u'type': u'message',\n",
       "  u'user': u'U42Q5K78U'},\n",
       " {u'text': u'Prepared salad only 5 bucks',\n",
       "  u'ts': u'1501863581.613087',\n",
       "  u'type': u'message',\n",
       "  u'user': u'U61K5FHQU'},\n",
       " {u'text': u'I got the Tomato, Mozz,arugula, sandwich toasted for $7. It was good!',\n",
       "  u'ts': u'1501874706.382175',\n",
       "  u'type': u'message',\n",
       "  u'user': u'U4UGW7U9W'},\n",
       " {u'text': u\"Btw I am working on getting data off of these channels to facilities...should have that happening early next week. So don't be upset w lack of response...just w me for not setting that up Before \",\n",
       "  u'ts': u'1501876003.964185',\n",
       "  u'type': u'message',\n",
       "  u'user': u'U61K5FHQU'}]"
      ]
     },
     "execution_count": 132,
     "metadata": {},
     "output_type": "execute_result"
    }
   ],
   "source": [
    "chat_messages"
   ]
  },
  {
   "cell_type": "markdown",
   "metadata": {},
   "source": [
    "# Aside: Emoji Rendering"
   ]
  },
  {
   "cell_type": "code",
   "execution_count": 10,
   "metadata": {},
   "outputs": [],
   "source": [
    "import json\n",
    "with open(\"./node_modules/emoji-datasource-apple/emoji.json\") as fp:\n",
    "    emoji = json.load(fp)"
   ]
  },
  {
   "cell_type": "code",
   "execution_count": 11,
   "metadata": {},
   "outputs": [
    {
     "data": {
      "text/plain": [
       "{u'added_in': u'6.0',\n",
       " u'au': u'EAD2',\n",
       " u'category': u'People',\n",
       " u'docomo': None,\n",
       " u'google': u'FE35B',\n",
       " u'has_img_apple': True,\n",
       " u'has_img_emojione': True,\n",
       " u'has_img_facebook': True,\n",
       " u'has_img_google': True,\n",
       " u'has_img_messenger': True,\n",
       " u'has_img_twitter': True,\n",
       " u'image': u'1f64f.png',\n",
       " u'name': u'PERSON WITH FOLDED HANDS',\n",
       " u'sheet_x': 25,\n",
       " u'sheet_y': 0,\n",
       " u'short_name': u'pray',\n",
       " u'short_names': [u'pray'],\n",
       " u'skin_variations': {u'1F3FB': {u'added_in': u'8.0',\n",
       "   u'has_img_apple': True,\n",
       "   u'has_img_emojione': True,\n",
       "   u'has_img_facebook': True,\n",
       "   u'has_img_google': True,\n",
       "   u'has_img_messenger': True,\n",
       "   u'has_img_twitter': True,\n",
       "   u'image': u'1f64f-1f3fb.png',\n",
       "   u'sheet_x': 25,\n",
       "   u'sheet_y': 1,\n",
       "   u'unified': u'1F64F-1F3FB'},\n",
       "  u'1F3FC': {u'added_in': u'8.0',\n",
       "   u'has_img_apple': True,\n",
       "   u'has_img_emojione': True,\n",
       "   u'has_img_facebook': True,\n",
       "   u'has_img_google': True,\n",
       "   u'has_img_messenger': True,\n",
       "   u'has_img_twitter': True,\n",
       "   u'image': u'1f64f-1f3fc.png',\n",
       "   u'sheet_x': 25,\n",
       "   u'sheet_y': 2,\n",
       "   u'unified': u'1F64F-1F3FC'},\n",
       "  u'1F3FD': {u'added_in': u'8.0',\n",
       "   u'has_img_apple': True,\n",
       "   u'has_img_emojione': True,\n",
       "   u'has_img_facebook': True,\n",
       "   u'has_img_google': True,\n",
       "   u'has_img_messenger': True,\n",
       "   u'has_img_twitter': True,\n",
       "   u'image': u'1f64f-1f3fd.png',\n",
       "   u'sheet_x': 25,\n",
       "   u'sheet_y': 3,\n",
       "   u'unified': u'1F64F-1F3FD'},\n",
       "  u'1F3FE': {u'added_in': u'8.0',\n",
       "   u'has_img_apple': True,\n",
       "   u'has_img_emojione': True,\n",
       "   u'has_img_facebook': True,\n",
       "   u'has_img_google': True,\n",
       "   u'has_img_messenger': True,\n",
       "   u'has_img_twitter': True,\n",
       "   u'image': u'1f64f-1f3fe.png',\n",
       "   u'sheet_x': 25,\n",
       "   u'sheet_y': 4,\n",
       "   u'unified': u'1F64F-1F3FE'},\n",
       "  u'1F3FF': {u'added_in': u'8.0',\n",
       "   u'has_img_apple': True,\n",
       "   u'has_img_emojione': True,\n",
       "   u'has_img_facebook': True,\n",
       "   u'has_img_google': True,\n",
       "   u'has_img_messenger': True,\n",
       "   u'has_img_twitter': True,\n",
       "   u'image': u'1f64f-1f3ff.png',\n",
       "   u'sheet_x': 25,\n",
       "   u'sheet_y': 5,\n",
       "   u'unified': u'1F64F-1F3FF'}},\n",
       " u'softbank': u'E41D',\n",
       " u'sort_order': 100,\n",
       " u'text': None,\n",
       " u'texts': None,\n",
       " u'unified': u'1F64F',\n",
       " u'variations': []}"
      ]
     },
     "execution_count": 11,
     "metadata": {},
     "output_type": "execute_result"
    }
   ],
   "source": [
    "shortname_to_emoji = dict([(x['short_name'], x) for x in emoji])\n",
    "shortname_to_emoji['pray']"
   ]
  },
  {
   "cell_type": "code",
   "execution_count": 100,
   "metadata": {},
   "outputs": [
    {
     "data": {
      "text/plain": [
       "{u'added_in': u'8.0',\n",
       " u'au': None,\n",
       " u'category': u'Skin Tones',\n",
       " u'docomo': None,\n",
       " u'google': None,\n",
       " u'has_img_apple': True,\n",
       " u'has_img_emojione': True,\n",
       " u'has_img_facebook': True,\n",
       " u'has_img_google': True,\n",
       " u'has_img_messenger': False,\n",
       " u'has_img_twitter': True,\n",
       " u'image': u'1f3fe.png',\n",
       " u'name': u'EMOJI MODIFIER FITZPATRICK TYPE-5',\n",
       " u'sheet_x': 10,\n",
       " u'sheet_y': 23,\n",
       " u'short_name': u'skin-tone-5',\n",
       " u'short_names': [u'skin-tone-5'],\n",
       " u'softbank': None,\n",
       " u'sort_order': 4,\n",
       " u'text': None,\n",
       " u'texts': None,\n",
       " u'unified': u'1F3FE',\n",
       " u'variations': []}"
      ]
     },
     "execution_count": 100,
     "metadata": {},
     "output_type": "execute_result"
    }
   ],
   "source": [
    "# check skin tones\n",
    "shortname_to_emoji['skin-tone-5']"
   ]
  },
  {
   "cell_type": "code",
   "execution_count": 12,
   "metadata": {},
   "outputs": [
    {
     "data": {
      "text/html": [
       "\n",
       "<span class=\"emoji-outer emoji-sizer\"\n",
       "style=\"width: 32px; height: 32px; display: block; background: url(https://a.slack-edge.com/bfaba/img/emoji_2016_06_08/sheet_apple_64_indexed_256colors.png);background-position: 72.5% 27.5%;background-size:4100%\"\n",
       "title=\"pray\"></span>\n"
      ],
      "text/plain": [
       "<IPython.core.display.HTML object>"
      ]
     },
     "metadata": {},
     "output_type": "display_data"
    }
   ],
   "source": [
    "# approach 1. use slack's CDN and html\n",
    "choice = shortname_to_emoji['pray']\n",
    "\n",
    "# old percentages for pray icon 72.5% 27.5%\n",
    "display(HTML(\"\"\"\n",
    "<span class=\"emoji-outer emoji-sizer\"\n",
    "style=\"width: 32px; height: 32px; display: block; background: url(https://a.slack-edge.com/bfaba/img/emoji_2016_06_08/sheet_apple_64_indexed_256colors.png);background-position: 72.5% 27.5%;background-size:4100%\"\n",
    "title=\"pray\"></span>\n",
    "\"\"\"))"
   ]
  },
  {
   "cell_type": "code",
   "execution_count": 125,
   "metadata": {},
   "outputs": [
    {
     "data": {
      "text/html": [
       "\n",
       "<link href=\"https://emojistatic.github.io/emojifont/emojifont.min.css\" rel=\"stylesheet\">\n",
       "<span alt=\"pray\" style=\"font-size: 24px;\">&#x1F44D&#x1F3FE</span>\n"
      ],
      "text/plain": [
       "<IPython.core.display.HTML object>"
      ]
     },
     "metadata": {},
     "output_type": "display_data"
    }
   ],
   "source": [
    "# approach 2. use emojistatic's emojifont\n",
    "display(HTML(\"\"\"\n",
    "<link href=\"https://emojistatic.github.io/emojifont/emojifont.min.css\" rel=\"stylesheet\">\n",
    "<span alt=\"pray\" style=\"font-size: 24px;\">&#x%s&#x%s</span>\n",
    "\"\"\" % (shortname_to_emoji['+1']['unified'], shortname_to_emoji['skin-tone-5']['unified'])))"
   ]
  },
  {
   "cell_type": "code",
   "execution_count": 14,
   "metadata": {},
   "outputs": [
    {
     "data": {
      "text/html": [
       "\n",
       "<span style=\"width: 32px; height: 32px; display: block; background: url('./node_modules/emoji-datasource-apple/img/apple/64/1f64f.png'); background-size: 32px;\"\n",
       "title=\"pray\"></span>\n"
      ],
      "text/plain": [
       "<IPython.core.display.HTML object>"
      ]
     },
     "metadata": {},
     "output_type": "display_data"
    }
   ],
   "source": [
    "# approach 3. directly load single image file\n",
    "emoji_path = \"./node_modules/emoji-datasource-apple/img/apple/64\"\n",
    "choice = shortname_to_emoji['pray']\n",
    "display(HTML(\"\"\"\n",
    "<span style=\"width: 32px; height: 32px; display: block; background: url('%(imgdir)s'); background-size: 32px;\"\n",
    "title=\"pray\"></span>\n",
    "\"\"\" % {\n",
    "    'imgdir': '%s/%s' % (emoji_path, choice[u'image'])\n",
    "}))"
   ]
  },
  {
   "cell_type": "markdown",
   "metadata": {},
   "source": [
    "# Format and display messages"
   ]
  },
  {
   "cell_type": "code",
   "execution_count": 15,
   "metadata": {},
   "outputs": [],
   "source": [
    "from itertools import groupby\n",
    "from datetime import datetime\n",
    "from pytz import timezone"
   ]
  },
  {
   "cell_type": "code",
   "execution_count": 16,
   "metadata": {},
   "outputs": [
    {
     "name": "stdout",
     "output_type": "stream",
     "text": [
      "August 5th, 2017\n"
     ]
    }
   ],
   "source": [
    "def suffix(d):\n",
    "    return 'th' if 11<=d<=13 else {1:'st',2:'nd',3:'rd'}.get(d%10, 'th')\n",
    "\n",
    "def custom_strftime(format, t):\n",
    "    return t.strftime(format).replace('{S}', str(t.day) + suffix(t.day))\n",
    "\n",
    "print custom_strftime('%B {S}, %Y', datetime.now())"
   ]
  },
  {
   "cell_type": "code",
   "execution_count": 17,
   "metadata": {},
   "outputs": [],
   "source": [
    "formatted_chats = [\n",
    "    {\n",
    "        'datetime': (datetime\n",
    "        .fromtimestamp(float(msg['ts']), timezone('UTC'))\n",
    "        .astimezone(timezone('US/Eastern'))),\n",
    "        'text': msg['text']\n",
    "    }\n",
    "    for msg in chat_messages\n",
    "]"
   ]
  },
  {
   "cell_type": "code",
   "execution_count": 18,
   "metadata": {},
   "outputs": [],
   "source": [
    "def escape_markdown(text):\n",
    "    return text.replace(\"*\", \"\\*\")"
   ]
  },
  {
   "cell_type": "code",
   "execution_count": 19,
   "metadata": {},
   "outputs": [
    {
     "data": {
      "text/plain": [
       "[u'Monday, July 31st, 1:55PM: <@U58RD27SN> ',\n",
       " u'Monday, July 31st, 6:36PM: Hey ',\n",
       " u'Monday, July 31st, 7:02PM: <@U61K5FHQU> <@U58RD27SN> ',\n",
       " u'Monday, July 31st, 7:40PM: White bean soup was great',\n",
       " u'Monday, July 31st, 7:40PM: Fresh peach was not edible ',\n",
       " u'Monday, July 31st, 7:41PM: Double espresso was perfect',\n",
       " u'Tuesday, August 1st, 1:09PM: 2nd day in a row of perfect espresso',\n",
       " u'Tuesday, August 1st, 1:10PM: Studybot campus-survey',\n",
       " u'Tuesday, August 1st, 1:11PM: studybot campus-survey',\n",
       " u'Tuesday, August 1st, 2:26PM: Had a sandwich: turkey, mozzarella, all the veggies on multigrain.  It was very good.',\n",
       " u'Wednesday, August 2nd, 9:07AM: made to order omelette: (turkey, onions, and peppers): well-seasoned and perfectly cooked. (the _only_ thing is the cafe is still waiting on hot sauce..) but other than that, glowing reviews for breakfast!',\n",
       " u'Wednesday, August 2nd, 9:10AM: :+1::skin-tone-5:',\n",
       " u'Wednesday, August 2nd, 9:40AM: STARR should look into their credit card processing agreement. Signatures should not be required for purchases at the cafe under $50.',\n",
       " u\"Wednesday, August 2nd, 9:41AM: Coffee has been great, and I agree with julianakm - omelette is really good, and they're getting quicker are preparing them.\",\n",
       " u'Wednesday, August 2nd, 9:44AM: *at',\n",
       " u\"Wednesday, August 2nd, 10:24AM: I'm hoping they'll get some small protein salads free of starches/grains. (Like a small container of chicken salad, tuna, etc.) Quite a few people on campus are avoiding those for medical and health reasons so something quick &amp; protein-rich besides the full salad bar would be good.\",\n",
       " u'Wednesday, August 2nd, 10:40AM: I suggest having an option for a cup of soup and a half salad.  My other suggestion is to have a shaker bottle of cinnamon to add to coffee.',\n",
       " u\"Wednesday, August 2nd, 12:04PM: I'd like to see coconut milk as another alternative milk option.\",\n",
       " u'Wednesday, August 2nd, 12:07PM: Also, apple pay :slightly_smiling_face:',\n",
       " u'Wednesday, August 2nd, 3:55PM: they did not ask me to sign any receipts at 2ish so they must have gotten the memo :slightly_smiling_face:',\n",
       " u\"Wednesday, August 2nd, 4:32PM: I would like to second <@U2CM9H6KC> 's request for an alternative milk options... and throw in a vote for Unsweetened Almond Milk (Throwback to #15th floor life)\",\n",
       " u'Thursday, August 3rd, 2:26PM: tomato bisque was :100:',\n",
       " u'Thursday, August 3rd, 3:48PM: I had a good fruit roll-up today.',\n",
       " u'Friday, August 4th, 10:19AM: There be hot sauce now! :pray:',\n",
       " u'Friday, August 4th, 10:23AM: Bagel everything was good',\n",
       " u'Friday, August 4th, 10:23AM: Soups are generally very good',\n",
       " u'Friday, August 4th, 12:19PM: Prepared salad only 5 bucks',\n",
       " u'Friday, August 4th, 3:25PM: I got the Tomato, Mozz,arugula, sandwich toasted for $7. It was good!',\n",
       " u\"Friday, August 4th, 3:46PM: Btw I am working on getting data off of these channels to facilities...should have that happening early next week. So don't be upset w lack of response...just w me for not setting that up Before \"]"
      ]
     },
     "execution_count": 19,
     "metadata": {},
     "output_type": "execute_result"
    }
   ],
   "source": [
    "[\"%s: %s\" % (custom_strftime(\"%A, %B {S}, %-I:%M%p\", msg['datetime']), msg['text']) for msg in formatted_chats]"
   ]
  },
  {
   "cell_type": "code",
   "execution_count": 20,
   "metadata": {},
   "outputs": [
    {
     "name": "stdout",
     "output_type": "stream",
     "text": [
      "Monday, July 7 [{'text': u'<@U58RD27SN> ', 'datetime': datetime.datetime(2017, 7, 31, 13, 55, 16, 28220, tzinfo=<DstTzInfo 'US/Eastern' EDT-1 day, 20:00:00 DST>)}, {'text': u'Hey ', 'datetime': datetime.datetime(2017, 7, 31, 18, 36, 3, 446092, tzinfo=<DstTzInfo 'US/Eastern' EDT-1 day, 20:00:00 DST>)}, {'text': u'<@U61K5FHQU> <@U58RD27SN> ', 'datetime': datetime.datetime(2017, 7, 31, 19, 2, 10, 920502, tzinfo=<DstTzInfo 'US/Eastern' EDT-1 day, 20:00:00 DST>)}, {'text': u'White bean soup was great', 'datetime': datetime.datetime(2017, 7, 31, 19, 40, 28, 546795, tzinfo=<DstTzInfo 'US/Eastern' EDT-1 day, 20:00:00 DST>)}, {'text': u'Fresh peach was not edible ', 'datetime': datetime.datetime(2017, 7, 31, 19, 40, 51, 552736, tzinfo=<DstTzInfo 'US/Eastern' EDT-1 day, 20:00:00 DST>)}, {'text': u'Double espresso was perfect', 'datetime': datetime.datetime(2017, 7, 31, 19, 41, 1, 555391, tzinfo=<DstTzInfo 'US/Eastern' EDT-1 day, 20:00:00 DST>)}]\n",
      "Tuesday, August 8 [{'text': u'2nd day in a row of perfect espresso', 'datetime': datetime.datetime(2017, 8, 1, 13, 9, 36, 356084, tzinfo=<DstTzInfo 'US/Eastern' EDT-1 day, 20:00:00 DST>)}, {'text': u'Studybot campus-survey', 'datetime': datetime.datetime(2017, 8, 1, 13, 10, 51, 399049, tzinfo=<DstTzInfo 'US/Eastern' EDT-1 day, 20:00:00 DST>)}, {'text': u'studybot campus-survey', 'datetime': datetime.datetime(2017, 8, 1, 13, 11, 35, 425236, tzinfo=<DstTzInfo 'US/Eastern' EDT-1 day, 20:00:00 DST>)}, {'text': u'Had a sandwich: turkey, mozzarella, all the veggies on multigrain.  It was very good.', 'datetime': datetime.datetime(2017, 8, 1, 14, 26, 16, 123582, tzinfo=<DstTzInfo 'US/Eastern' EDT-1 day, 20:00:00 DST>)}]\n",
      "Wednesday, August 8 [{'text': u'made to order omelette: (turkey, onions, and peppers): well-seasoned and perfectly cooked. (the _only_ thing is the cafe is still waiting on hot sauce..) but other than that, glowing reviews for breakfast!', 'datetime': datetime.datetime(2017, 8, 2, 9, 7, 33, 577303, tzinfo=<DstTzInfo 'US/Eastern' EDT-1 day, 20:00:00 DST>)}, {'text': u':+1::skin-tone-5:', 'datetime': datetime.datetime(2017, 8, 2, 9, 10, 47, 672121, tzinfo=<DstTzInfo 'US/Eastern' EDT-1 day, 20:00:00 DST>)}, {'text': u'STARR should look into their credit card processing agreement. Signatures should not be required for purchases at the cafe under $50.', 'datetime': datetime.datetime(2017, 8, 2, 9, 40, 6, 613902, tzinfo=<DstTzInfo 'US/Eastern' EDT-1 day, 20:00:00 DST>)}, {'text': u\"Coffee has been great, and I agree with julianakm - omelette is really good, and they're getting quicker are preparing them.\", 'datetime': datetime.datetime(2017, 8, 2, 9, 41, 39, 667108, tzinfo=<DstTzInfo 'US/Eastern' EDT-1 day, 20:00:00 DST>)}, {'text': u'*at', 'datetime': datetime.datetime(2017, 8, 2, 9, 44, 10, 753082, tzinfo=<DstTzInfo 'US/Eastern' EDT-1 day, 20:00:00 DST>)}, {'text': u\"I'm hoping they'll get some small protein salads free of starches/grains. (Like a small container of chicken salad, tuna, etc.) Quite a few people on campus are avoiding those for medical and health reasons so something quick &amp; protein-rich besides the full salad bar would be good.\", 'datetime': datetime.datetime(2017, 8, 2, 10, 24, 58, 284962, tzinfo=<DstTzInfo 'US/Eastern' EDT-1 day, 20:00:00 DST>)}, {'text': u'I suggest having an option for a cup of soup and a half salad.  My other suggestion is to have a shaker bottle of cinnamon to add to coffee.', 'datetime': datetime.datetime(2017, 8, 2, 10, 40, 26, 898181, tzinfo=<DstTzInfo 'US/Eastern' EDT-1 day, 20:00:00 DST>)}, {'text': u\"I'd like to see coconut milk as another alternative milk option.\", 'datetime': datetime.datetime(2017, 8, 2, 12, 4, 55, 301226, tzinfo=<DstTzInfo 'US/Eastern' EDT-1 day, 20:00:00 DST>)}, {'text': u'Also, apple pay :slightly_smiling_face:', 'datetime': datetime.datetime(2017, 8, 2, 12, 7, 11, 386620, tzinfo=<DstTzInfo 'US/Eastern' EDT-1 day, 20:00:00 DST>)}, {'text': u'they did not ask me to sign any receipts at 2ish so they must have gotten the memo :slightly_smiling_face:', 'datetime': datetime.datetime(2017, 8, 2, 15, 55, 28, 405682, tzinfo=<DstTzInfo 'US/Eastern' EDT-1 day, 20:00:00 DST>)}, {'text': u\"I would like to second <@U2CM9H6KC> 's request for an alternative milk options... and throw in a vote for Unsweetened Almond Milk (Throwback to #15th floor life)\", 'datetime': datetime.datetime(2017, 8, 2, 16, 32, 43, 635857, tzinfo=<DstTzInfo 'US/Eastern' EDT-1 day, 20:00:00 DST>)}]\n",
      "Thursday, August 8 [{'text': u'tomato bisque was :100:', 'datetime': datetime.datetime(2017, 8, 3, 14, 26, 33, 432709, tzinfo=<DstTzInfo 'US/Eastern' EDT-1 day, 20:00:00 DST>)}, {'text': u'I had a good fruit roll-up today.', 'datetime': datetime.datetime(2017, 8, 3, 15, 48, 3, 133530, tzinfo=<DstTzInfo 'US/Eastern' EDT-1 day, 20:00:00 DST>)}]\n",
      "Friday, August 8 [{'text': u'There be hot sauce now! :pray:', 'datetime': datetime.datetime(2017, 8, 4, 10, 19, 41, 390047, tzinfo=<DstTzInfo 'US/Eastern' EDT-1 day, 20:00:00 DST>)}, {'text': u'Bagel everything was good', 'datetime': datetime.datetime(2017, 8, 4, 10, 23, 26, 517856, tzinfo=<DstTzInfo 'US/Eastern' EDT-1 day, 20:00:00 DST>)}, {'text': u'Soups are generally very good', 'datetime': datetime.datetime(2017, 8, 4, 10, 23, 44, 528429, tzinfo=<DstTzInfo 'US/Eastern' EDT-1 day, 20:00:00 DST>)}, {'text': u'Prepared salad only 5 bucks', 'datetime': datetime.datetime(2017, 8, 4, 12, 19, 41, 613087, tzinfo=<DstTzInfo 'US/Eastern' EDT-1 day, 20:00:00 DST>)}, {'text': u'I got the Tomato, Mozz,arugula, sandwich toasted for $7. It was good!', 'datetime': datetime.datetime(2017, 8, 4, 15, 25, 6, 382175, tzinfo=<DstTzInfo 'US/Eastern' EDT-1 day, 20:00:00 DST>)}, {'text': u\"Btw I am working on getting data off of these channels to facilities...should have that happening early next week. So don't be upset w lack of response...just w me for not setting that up Before \", 'datetime': datetime.datetime(2017, 8, 4, 15, 46, 43, 964185, tzinfo=<DstTzInfo 'US/Eastern' EDT-1 day, 20:00:00 DST>)}]\n"
     ]
    }
   ],
   "source": [
    "grouped_messages = groupby(formatted_chats, lambda x: x['datetime'].strftime(\"%A, %B %-m\"))\n",
    "for date in (grouped_messages):\n",
    "    print date[0], list(date[1])"
   ]
  },
  {
   "cell_type": "code",
   "execution_count": 166,
   "metadata": {},
   "outputs": [],
   "source": [
    "# emit channel messages as markdown\n",
    "import re\n",
    "\n",
    "find_names_re = re.compile(r'<@([^>]+)>')\n",
    "find_emoji_re = re.compile(r':(?P<sn>[^:]+):(:(?P<mod>[^:]+):)?')\n",
    "\n",
    "def replace_name(m):\n",
    "    try:\n",
    "        return \"**@%s**\" % users_map[m.group(1)]\n",
    "    except KeyError:\n",
    "        return \"*%s*\" % m.group(0)\n",
    "    \n",
    "def replace_emoji(m):\n",
    "    try:\n",
    "        emoji = shortname_to_emoji[m.group('sn')]\n",
    "        \n",
    "        if m.group('mod') and 'skin_variations' in emoji:\n",
    "            # just print the emoji + variation out as two separate characters\n",
    "            mod = shortname_to_emoji[m.group('mod')]\n",
    "            # variation = emoji['skin_variations'][mod['unified']]\n",
    "            return \"&#x%s;&#x%s;\" % (emoji['unified'], mod['unified'])\n",
    "        else:\n",
    "            return \"&#x%s;\" % emoji['unified']\n",
    "    except KeyError:\n",
    "        return m.group(0)"
   ]
  },
  {
   "cell_type": "code",
   "execution_count": 117,
   "metadata": {},
   "outputs": [
    {
     "data": {
      "text/html": [
       "i love <@U234> pizza &#x1F64F;&#x1F3FE; hey"
      ],
      "text/plain": [
       "<IPython.core.display.HTML object>"
      ]
     },
     "metadata": {},
     "output_type": "display_data"
    }
   ],
   "source": [
    "display(HTML(find_emoji_re.sub(replace_emoji, \"i love <@U234> pizza :pray::skin-tone-5: hey\")))"
   ]
  },
  {
   "cell_type": "code",
   "execution_count": null,
   "metadata": {},
   "outputs": [],
   "source": [
    "# gathers output for emission\n",
    "emissions = []\n",
    "def emit(mkdown):\n",
    "    global emissions\n",
    "    emissions.append(mkdown)\n",
    "\n",
    "emit(HTML(\"\"\"<center><h1>Cornell Tech Weekly Digest</h1></center>\"\"\"))\n",
    "# emit(HTML(\"\"\"<link href=\"https://emojistatic.github.io/emojifont/emojifont.min.css\" rel=\"stylesheet\">\"\"\"))\n",
    "\n",
    "# actually iterate over the messages now\n",
    "for channel_name, comments in channel_comments.items():\n",
    "    personal_messages = [\n",
    "        msg for msg in reversed(comments)\n",
    "        # if msg['type'] == 'message' and 'subtype' not in msg\n",
    "        if msg['type'] == 'message' and 'subtype' not in msg and 'thread_ts' not in msg\n",
    "    ]\n",
    "    localized_chats = [\n",
    "        {\n",
    "            'datetime': (datetime\n",
    "            .fromtimestamp(float(msg['ts']), timezone('UTC'))\n",
    "            .astimezone(timezone('US/Eastern'))),\n",
    "            'text': msg['text'],\n",
    "            'user': msg['user']\n",
    "        }\n",
    "        for msg in personal_messages\n",
    "    ]\n",
    "    \n",
    "    # actually print stuff now\n",
    "    \n",
    "    emit(Markdown(\"## \\#%s\" % channel_name))\n",
    "\n",
    "    for day, messages in groupby(localized_chats, lambda x: custom_strftime(\"%A, %B {S}\", x['datetime'])):\n",
    "        emit(Markdown(\"### %s\" % day))\n",
    "        \n",
    "        complete = []\n",
    "        for message in messages:\n",
    "            final_text = find_names_re.sub(replace_name, message['text'])\n",
    "            final_text = find_emoji_re.sub(replace_emoji, final_text)\n",
    "            \n",
    "            data = {\n",
    "                'text': final_text,\n",
    "                'timeofday': custom_strftime(\"%-I:%M %p\", message['datetime']),\n",
    "                'author': users_map[message['user']]\n",
    "            }\n",
    "            complete.append(\"- *%(timeofday)s* (@%(author)s): %(text)s\" % data)\n",
    "        \n",
    "        emit(Markdown(\"\\n\".join(complete)))\n",
    "\n",
    "# ...and final processing/display\n",
    "\n",
    "for em in emissions:\n",
    "    display(em)"
   ]
  },
  {
   "cell_type": "code",
   "execution_count": 150,
   "metadata": {},
   "outputs": [
    {
     "data": {
      "text/plain": [
       "[u'1501611741.429415', u'1501523689.012042']"
      ]
     },
     "execution_count": 150,
     "metadata": {},
     "output_type": "execute_result"
    }
   ],
   "source": [
    "[min(y['ts'] for y in x) for x in channel_comments.values()]"
   ]
  },
  {
   "cell_type": "code",
   "execution_count": 161,
   "metadata": {},
   "outputs": [
    {
     "name": "stdout",
     "output_type": "stream",
     "text": [
      "1501523689.01 1501880869.9\n"
     ]
    }
   ],
   "source": [
    "# compute bounds\n",
    "start_time = min(min(float(msg['ts']) for msg in messages) for messages in channel_comments.values())\n",
    "end_time = max(max(float(msg['ts']) for msg in messages) for messages in channel_comments.values())\n",
    "\n",
    "print start_time, end_time\n",
    "\n",
    "def localize_ts(ts, tzone='US/Eastern'):\n",
    "    return (datetime\n",
    "            .fromtimestamp(float(ts), timezone('UTC'))\n",
    "            .astimezone(timezone(tzone)))\n",
    "\n",
    "start_datetime, end_datetime = localize_ts(start_time), localize_ts(end_time)"
   ]
  },
  {
   "cell_type": "code",
   "execution_count": 203,
   "metadata": {},
   "outputs": [
    {
     "data": {
      "text/html": [
       "<center>\n",
       "<h1 style=\"margin-bottom: 0.5em;\">Cornell Tech Weekly Digest</h1>\n",
       "<div style=\"font-size: large; line-height: 150%; color: #777; text-align: center;\">messages from <b style=\"color: black;\">#building_comments</b>, <b style=\"color: black;\">#cafe_comments</b><br />from <b style=\"color: black;\">Monday, July 31st, 2017</b> to <b style=\"color: black;\">Friday, August 4th, 2017</b></div>\n",
       "</center>"
      ],
      "text/plain": [
       "<IPython.core.display.HTML object>"
      ]
     },
     "metadata": {},
     "output_type": "display_data"
    },
    {
     "data": {
      "text/html": [
       "<h2 style=\"font-size: x-large;\">#building_comments</h2>"
      ],
      "text/plain": [
       "<IPython.core.display.HTML object>"
      ]
     },
     "metadata": {},
     "output_type": "display_data"
    },
    {
     "data": {
      "text/html": [
       "<h3 style=\"color: #555;\">Thursday, August 3rd</h3>"
      ],
      "text/plain": [
       "<IPython.core.display.HTML object>"
      ]
     },
     "metadata": {},
     "output_type": "display_data"
    },
    {
     "data": {
      "text/html": [
       "<ul style=\"margin-bottom: 1em;\">"
      ],
      "text/plain": [
       "<IPython.core.display.HTML object>"
      ]
     },
     "metadata": {},
     "output_type": "display_data"
    },
    {
     "data": {
      "text/html": [
       "<li style=\"margin-bottom: 0.25em;\"><b style=\"font-size: larger;\">james_grimmelmann</b> <span style=\"color: #777; font-size: smaller;\">3:47 PM</span><br />Maybe <b style=\"color: #3393cc;\">@cornelltechsharebox</b> shouldn’t be part of this channel.</li>"
      ],
      "text/plain": [
       "<IPython.core.display.HTML object>"
      ]
     },
     "metadata": {},
     "output_type": "display_data"
    },
    {
     "data": {
      "text/html": [
       "<li style=\"margin-bottom: 0.25em;\"><b style=\"font-size: larger;\">james_grimmelmann</b> <span style=\"color: #777; font-size: smaller;\">3:47 PM</span><br />Anyway, WiFi (eduroam) in 2B today was on the edge of being unusable.</li>"
      ],
      "text/plain": [
       "<IPython.core.display.HTML object>"
      ]
     },
     "metadata": {},
     "output_type": "display_data"
    },
    {
     "data": {
      "text/html": [
       "<li style=\"margin-bottom: 0.25em;\"><b style=\"font-size: larger;\">mattvlaw</b> <span style=\"color: #777; font-size: smaller;\">3:49 PM</span><br />sorry I am trying to remove it</li>"
      ],
      "text/plain": [
       "<IPython.core.display.HTML object>"
      ]
     },
     "metadata": {},
     "output_type": "display_data"
    },
    {
     "data": {
      "text/html": [
       "<li style=\"margin-bottom: 0.25em;\"><b style=\"font-size: larger;\">mattvlaw</b> <span style=\"color: #777; font-size: smaller;\">3:59 PM</span><br />\\remove <b style=\"color: #3393cc;\">@cornelltechsharebox</b></li>"
      ],
      "text/plain": [
       "<IPython.core.display.HTML object>"
      ]
     },
     "metadata": {},
     "output_type": "display_data"
    },
    {
     "data": {
      "text/html": [
       "<li style=\"margin-bottom: 0.25em;\"><b style=\"font-size: larger;\">allie</b> <span style=\"color: #777; font-size: smaller;\">4:02 PM</span><br />Maybe we can borrow a working wifi, is that in the box? &#x1F642;</li>"
      ],
      "text/plain": [
       "<IPython.core.display.HTML object>"
      ]
     },
     "metadata": {},
     "output_type": "display_data"
    },
    {
     "data": {
      "text/html": [
       "<li style=\"margin-bottom: 0.25em;\"><b style=\"font-size: larger;\">mattvlaw</b> <span style=\"color: #777; font-size: smaller;\">4:07 PM</span><br />sorry, I don’t think I have the rights to kick the bot. I didn’t add it, either. can someone with rights please remove it? much appreciated.</li>"
      ],
      "text/plain": [
       "<IPython.core.display.HTML object>"
      ]
     },
     "metadata": {},
     "output_type": "display_data"
    },
    {
     "data": {
      "text/html": [
       "<li style=\"margin-bottom: 0.25em;\"><b style=\"font-size: larger;\">mattvlaw</b> <span style=\"color: #777; font-size: smaller;\">4:07 PM</span><br />exit</li>"
      ],
      "text/plain": [
       "<IPython.core.display.HTML object>"
      ]
     },
     "metadata": {},
     "output_type": "display_data"
    },
    {
     "data": {
      "text/html": [
       "</ul>"
      ],
      "text/plain": [
       "<IPython.core.display.HTML object>"
      ]
     },
     "metadata": {},
     "output_type": "display_data"
    },
    {
     "data": {
      "text/html": [
       "<h3 style=\"color: #555;\">Friday, August 4th</h3>"
      ],
      "text/plain": [
       "<IPython.core.display.HTML object>"
      ]
     },
     "metadata": {},
     "output_type": "display_data"
    },
    {
     "data": {
      "text/html": [
       "<ul style=\"margin-bottom: 1em;\">"
      ],
      "text/plain": [
       "<IPython.core.display.HTML object>"
      ]
     },
     "metadata": {},
     "output_type": "display_data"
    },
    {
     "data": {
      "text/html": [
       "<li style=\"margin-bottom: 0.25em;\"><b style=\"font-size: larger;\">de226</b> <span style=\"color: #777; font-size: smaller;\">3:46 PM</span><br />Btw I am working on getting data off of these channels to facilities...should have that happening early next week. So don't be upset w lack of response...just w me for not setting that up Before </li>"
      ],
      "text/plain": [
       "<IPython.core.display.HTML object>"
      ]
     },
     "metadata": {},
     "output_type": "display_data"
    },
    {
     "data": {
      "text/html": [
       "</ul>"
      ],
      "text/plain": [
       "<IPython.core.display.HTML object>"
      ]
     },
     "metadata": {},
     "output_type": "display_data"
    },
    {
     "data": {
      "text/html": [
       "<h2 style=\"font-size: x-large;\">#cafe_comments</h2>"
      ],
      "text/plain": [
       "<IPython.core.display.HTML object>"
      ]
     },
     "metadata": {},
     "output_type": "display_data"
    },
    {
     "data": {
      "text/html": [
       "<h3 style=\"color: #555;\">Monday, July 31st</h3>"
      ],
      "text/plain": [
       "<IPython.core.display.HTML object>"
      ]
     },
     "metadata": {},
     "output_type": "display_data"
    },
    {
     "data": {
      "text/html": [
       "<ul style=\"margin-bottom: 1em;\">"
      ],
      "text/plain": [
       "<IPython.core.display.HTML object>"
      ]
     },
     "metadata": {},
     "output_type": "display_data"
    },
    {
     "data": {
      "text/html": [
       "<li style=\"margin-bottom: 0.25em;\"><b style=\"font-size: larger;\">eugene</b> <span style=\"color: #777; font-size: smaller;\">1:55 PM</span><br /><b style=\"color: #3393cc;\">@destrin</b> </li>"
      ],
      "text/plain": [
       "<IPython.core.display.HTML object>"
      ]
     },
     "metadata": {},
     "output_type": "display_data"
    },
    {
     "data": {
      "text/html": [
       "<li style=\"margin-bottom: 0.25em;\"><b style=\"font-size: larger;\">eugene</b> <span style=\"color: #777; font-size: smaller;\">6:36 PM</span><br />Hey </li>"
      ],
      "text/plain": [
       "<IPython.core.display.HTML object>"
      ]
     },
     "metadata": {},
     "output_type": "display_data"
    },
    {
     "data": {
      "text/html": [
       "<li style=\"margin-bottom: 0.25em;\"><b style=\"font-size: larger;\">eugene</b> <span style=\"color: #777; font-size: smaller;\">7:02 PM</span><br /><b style=\"color: #3393cc;\">@de226</b> <b style=\"color: #3393cc;\">@destrin</b> </li>"
      ],
      "text/plain": [
       "<IPython.core.display.HTML object>"
      ]
     },
     "metadata": {},
     "output_type": "display_data"
    },
    {
     "data": {
      "text/html": [
       "<li style=\"margin-bottom: 0.25em;\"><b style=\"font-size: larger;\">de226</b> <span style=\"color: #777; font-size: smaller;\">7:40 PM</span><br />White bean soup was great</li>"
      ],
      "text/plain": [
       "<IPython.core.display.HTML object>"
      ]
     },
     "metadata": {},
     "output_type": "display_data"
    },
    {
     "data": {
      "text/html": [
       "<li style=\"margin-bottom: 0.25em;\"><b style=\"font-size: larger;\">de226</b> <span style=\"color: #777; font-size: smaller;\">7:40 PM</span><br />Fresh peach was not edible </li>"
      ],
      "text/plain": [
       "<IPython.core.display.HTML object>"
      ]
     },
     "metadata": {},
     "output_type": "display_data"
    },
    {
     "data": {
      "text/html": [
       "<li style=\"margin-bottom: 0.25em;\"><b style=\"font-size: larger;\">de226</b> <span style=\"color: #777; font-size: smaller;\">7:41 PM</span><br />Double espresso was perfect</li>"
      ],
      "text/plain": [
       "<IPython.core.display.HTML object>"
      ]
     },
     "metadata": {},
     "output_type": "display_data"
    },
    {
     "data": {
      "text/html": [
       "</ul>"
      ],
      "text/plain": [
       "<IPython.core.display.HTML object>"
      ]
     },
     "metadata": {},
     "output_type": "display_data"
    },
    {
     "data": {
      "text/html": [
       "<h3 style=\"color: #555;\">Tuesday, August 1st</h3>"
      ],
      "text/plain": [
       "<IPython.core.display.HTML object>"
      ]
     },
     "metadata": {},
     "output_type": "display_data"
    },
    {
     "data": {
      "text/html": [
       "<ul style=\"margin-bottom: 1em;\">"
      ],
      "text/plain": [
       "<IPython.core.display.HTML object>"
      ]
     },
     "metadata": {},
     "output_type": "display_data"
    },
    {
     "data": {
      "text/html": [
       "<li style=\"margin-bottom: 0.25em;\"><b style=\"font-size: larger;\">de226</b> <span style=\"color: #777; font-size: smaller;\">1:09 PM</span><br />2nd day in a row of perfect espresso</li>"
      ],
      "text/plain": [
       "<IPython.core.display.HTML object>"
      ]
     },
     "metadata": {},
     "output_type": "display_data"
    },
    {
     "data": {
      "text/html": [
       "<li style=\"margin-bottom: 0.25em;\"><b style=\"font-size: larger;\">de226</b> <span style=\"color: #777; font-size: smaller;\">1:10 PM</span><br />Studybot campus-survey</li>"
      ],
      "text/plain": [
       "<IPython.core.display.HTML object>"
      ]
     },
     "metadata": {},
     "output_type": "display_data"
    },
    {
     "data": {
      "text/html": [
       "<li style=\"margin-bottom: 0.25em;\"><b style=\"font-size: larger;\">de226</b> <span style=\"color: #777; font-size: smaller;\">1:11 PM</span><br />studybot campus-survey</li>"
      ],
      "text/plain": [
       "<IPython.core.display.HTML object>"
      ]
     },
     "metadata": {},
     "output_type": "display_data"
    },
    {
     "data": {
      "text/html": [
       "<li style=\"margin-bottom: 0.25em;\"><b style=\"font-size: larger;\">mdgriffith</b> <span style=\"color: #777; font-size: smaller;\">2:26 PM</span><br />Had a sandwich: turkey, mozzarella, all the veggies on multigrain.  It was very good.</li>"
      ],
      "text/plain": [
       "<IPython.core.display.HTML object>"
      ]
     },
     "metadata": {},
     "output_type": "display_data"
    },
    {
     "data": {
      "text/html": [
       "</ul>"
      ],
      "text/plain": [
       "<IPython.core.display.HTML object>"
      ]
     },
     "metadata": {},
     "output_type": "display_data"
    },
    {
     "data": {
      "text/html": [
       "<h3 style=\"color: #555;\">Wednesday, August 2nd</h3>"
      ],
      "text/plain": [
       "<IPython.core.display.HTML object>"
      ]
     },
     "metadata": {},
     "output_type": "display_data"
    },
    {
     "data": {
      "text/html": [
       "<ul style=\"margin-bottom: 1em;\">"
      ],
      "text/plain": [
       "<IPython.core.display.HTML object>"
      ]
     },
     "metadata": {},
     "output_type": "display_data"
    },
    {
     "data": {
      "text/html": [
       "<li style=\"margin-bottom: 0.25em;\"><b style=\"font-size: larger;\">julianakm</b> <span style=\"color: #777; font-size: smaller;\">9:07 AM</span><br />made to order omelette: (turkey, onions, and peppers): well-seasoned and perfectly cooked. (the _only_ thing is the cafe is still waiting on hot sauce..) but other than that, glowing reviews for breakfast!</li>"
      ],
      "text/plain": [
       "<IPython.core.display.HTML object>"
      ]
     },
     "metadata": {},
     "output_type": "display_data"
    },
    {
     "data": {
      "text/html": [
       "<li style=\"margin-bottom: 0.25em;\"><b style=\"font-size: larger;\">mbweissman</b> <span style=\"color: #777; font-size: smaller;\">9:41 AM</span><br />Coffee has been great, and I agree with julianakm - omelette is really good, and they're getting quicker are preparing them.</li>"
      ],
      "text/plain": [
       "<IPython.core.display.HTML object>"
      ]
     },
     "metadata": {},
     "output_type": "display_data"
    },
    {
     "data": {
      "text/html": [
       "<li style=\"margin-bottom: 0.25em;\"><b style=\"font-size: larger;\">mbweissman</b> <span style=\"color: #777; font-size: smaller;\">9:44 AM</span><br />*at</li>"
      ],
      "text/plain": [
       "<IPython.core.display.HTML object>"
      ]
     },
     "metadata": {},
     "output_type": "display_data"
    },
    {
     "data": {
      "text/html": [
       "<li style=\"margin-bottom: 0.25em;\"><b style=\"font-size: larger;\">allie</b> <span style=\"color: #777; font-size: smaller;\">10:24 AM</span><br />I'm hoping they'll get some small protein salads free of starches/grains. (Like a small container of chicken salad, tuna, etc.) Quite a few people on campus are avoiding those for medical and health reasons so something quick &amp; protein-rich besides the full salad bar would be good.</li>"
      ],
      "text/plain": [
       "<IPython.core.display.HTML object>"
      ]
     },
     "metadata": {},
     "output_type": "display_data"
    },
    {
     "data": {
      "text/html": [
       "<li style=\"margin-bottom: 0.25em;\"><b style=\"font-size: larger;\">kam1228</b> <span style=\"color: #777; font-size: smaller;\">10:40 AM</span><br />I suggest having an option for a cup of soup and a half salad.  My other suggestion is to have a shaker bottle of cinnamon to add to coffee.</li>"
      ],
      "text/plain": [
       "<IPython.core.display.HTML object>"
      ]
     },
     "metadata": {},
     "output_type": "display_data"
    },
    {
     "data": {
      "text/html": [
       "<li style=\"margin-bottom: 0.25em;\"><b style=\"font-size: larger;\">haleybissegger</b> <span style=\"color: #777; font-size: smaller;\">12:04 PM</span><br />I'd like to see coconut milk as another alternative milk option.</li>"
      ],
      "text/plain": [
       "<IPython.core.display.HTML object>"
      ]
     },
     "metadata": {},
     "output_type": "display_data"
    },
    {
     "data": {
      "text/html": [
       "<li style=\"margin-bottom: 0.25em;\"><b style=\"font-size: larger;\">haleybissegger</b> <span style=\"color: #777; font-size: smaller;\">12:07 PM</span><br />Also, apple pay &#x1F642;</li>"
      ],
      "text/plain": [
       "<IPython.core.display.HTML object>"
      ]
     },
     "metadata": {},
     "output_type": "display_data"
    },
    {
     "data": {
      "text/html": [
       "<li style=\"margin-bottom: 0.25em;\"><b style=\"font-size: larger;\">julianakm</b> <span style=\"color: #777; font-size: smaller;\">4:32 PM</span><br />I would like to second <b style=\"color: #3393cc;\">@haleybissegger</b> 's request for an alternative milk options... and throw in a vote for Unsweetened Almond Milk (Throwback to #15th floor life)</li>"
      ],
      "text/plain": [
       "<IPython.core.display.HTML object>"
      ]
     },
     "metadata": {},
     "output_type": "display_data"
    },
    {
     "data": {
      "text/html": [
       "</ul>"
      ],
      "text/plain": [
       "<IPython.core.display.HTML object>"
      ]
     },
     "metadata": {},
     "output_type": "display_data"
    },
    {
     "data": {
      "text/html": [
       "<h3 style=\"color: #555;\">Thursday, August 3rd</h3>"
      ],
      "text/plain": [
       "<IPython.core.display.HTML object>"
      ]
     },
     "metadata": {},
     "output_type": "display_data"
    },
    {
     "data": {
      "text/html": [
       "<ul style=\"margin-bottom: 1em;\">"
      ],
      "text/plain": [
       "<IPython.core.display.HTML object>"
      ]
     },
     "metadata": {},
     "output_type": "display_data"
    },
    {
     "data": {
      "text/html": [
       "<li style=\"margin-bottom: 0.25em;\"><b style=\"font-size: larger;\">allie</b> <span style=\"color: #777; font-size: smaller;\">2:26 PM</span><br />tomato bisque was &#x1F4AF;</li>"
      ],
      "text/plain": [
       "<IPython.core.display.HTML object>"
      ]
     },
     "metadata": {},
     "output_type": "display_data"
    },
    {
     "data": {
      "text/html": [
       "<li style=\"margin-bottom: 0.25em;\"><b style=\"font-size: larger;\">james_grimmelmann</b> <span style=\"color: #777; font-size: smaller;\">3:48 PM</span><br />I had a good fruit roll-up today.</li>"
      ],
      "text/plain": [
       "<IPython.core.display.HTML object>"
      ]
     },
     "metadata": {},
     "output_type": "display_data"
    },
    {
     "data": {
      "text/html": [
       "</ul>"
      ],
      "text/plain": [
       "<IPython.core.display.HTML object>"
      ]
     },
     "metadata": {},
     "output_type": "display_data"
    },
    {
     "data": {
      "text/html": [
       "<h3 style=\"color: #555;\">Friday, August 4th</h3>"
      ],
      "text/plain": [
       "<IPython.core.display.HTML object>"
      ]
     },
     "metadata": {},
     "output_type": "display_data"
    },
    {
     "data": {
      "text/html": [
       "<ul style=\"margin-bottom: 1em;\">"
      ],
      "text/plain": [
       "<IPython.core.display.HTML object>"
      ]
     },
     "metadata": {},
     "output_type": "display_data"
    },
    {
     "data": {
      "text/html": [
       "<li style=\"margin-bottom: 0.25em;\"><b style=\"font-size: larger;\">julianakm</b> <span style=\"color: #777; font-size: smaller;\">10:19 AM</span><br />There be hot sauce now! &#x1F64F;</li>"
      ],
      "text/plain": [
       "<IPython.core.display.HTML object>"
      ]
     },
     "metadata": {},
     "output_type": "display_data"
    },
    {
     "data": {
      "text/html": [
       "<li style=\"margin-bottom: 0.25em;\"><b style=\"font-size: larger;\">sobolevmic</b> <span style=\"color: #777; font-size: smaller;\">10:23 AM</span><br />Bagel everything was good</li>"
      ],
      "text/plain": [
       "<IPython.core.display.HTML object>"
      ]
     },
     "metadata": {},
     "output_type": "display_data"
    },
    {
     "data": {
      "text/html": [
       "<li style=\"margin-bottom: 0.25em;\"><b style=\"font-size: larger;\">sobolevmic</b> <span style=\"color: #777; font-size: smaller;\">10:23 AM</span><br />Soups are generally very good</li>"
      ],
      "text/plain": [
       "<IPython.core.display.HTML object>"
      ]
     },
     "metadata": {},
     "output_type": "display_data"
    },
    {
     "data": {
      "text/html": [
       "<li style=\"margin-bottom: 0.25em;\"><b style=\"font-size: larger;\">de226</b> <span style=\"color: #777; font-size: smaller;\">12:19 PM</span><br />Prepared salad only 5 bucks</li>"
      ],
      "text/plain": [
       "<IPython.core.display.HTML object>"
      ]
     },
     "metadata": {},
     "output_type": "display_data"
    },
    {
     "data": {
      "text/html": [
       "<li style=\"margin-bottom: 0.25em;\"><b style=\"font-size: larger;\">kristinaortiz</b> <span style=\"color: #777; font-size: smaller;\">3:25 PM</span><br />I got the Tomato, Mozz,arugula, sandwich toasted for $7. It was good!</li>"
      ],
      "text/plain": [
       "<IPython.core.display.HTML object>"
      ]
     },
     "metadata": {},
     "output_type": "display_data"
    },
    {
     "data": {
      "text/html": [
       "<li style=\"margin-bottom: 0.25em;\"><b style=\"font-size: larger;\">de226</b> <span style=\"color: #777; font-size: smaller;\">3:46 PM</span><br />Btw I am working on getting data off of these channels to facilities...should have that happening early next week. So don't be upset w lack of response...just w me for not setting that up Before </li>"
      ],
      "text/plain": [
       "<IPython.core.display.HTML object>"
      ]
     },
     "metadata": {},
     "output_type": "display_data"
    },
    {
     "data": {
      "text/html": [
       "</ul>"
      ],
      "text/plain": [
       "<IPython.core.display.HTML object>"
      ]
     },
     "metadata": {},
     "output_type": "display_data"
    }
   ],
   "source": [
    "# html version\n",
    "\n",
    "def replace_name_html(m):\n",
    "    try:\n",
    "        return '<b style=\"color: #3393cc;\">@%s</b>' % users_map[m.group(1)]\n",
    "    except KeyError:\n",
    "        return \"<b>%s</b>\" % m.group(0)\n",
    "\n",
    "# gathers output for emission\n",
    "emissions = []\n",
    "def emit(mkdown):\n",
    "    global emissions\n",
    "    emissions.append(mkdown)\n",
    "\n",
    "emit(HTML(\"\"\"<center>\n",
    "<h1 style=\"margin-bottom: 0.5em;\">Cornell Tech Weekly Digest</h1>\n",
    "<div style=\"font-size: large; line-height: 150%%; color: #777; text-align: center;\">messages from %(channel_list)s<br />from %(start_datestr)s to %(end_datestr)s</div>\n",
    "</center>\"\"\" % {\n",
    "    'channel_list': \", \".join([('<b style=\"color: black;\">#%s</b>' % name) for name in channel_comments]),\n",
    "    'start_datestr': '<b style=\"color: black;\">%s</b>' % custom_strftime(\"%A, %B {S}, %Y\", start_datetime),\n",
    "    'end_datestr': '<b style=\"color: black;\">%s</b>' % custom_strftime(\"%A, %B {S}, %Y\", end_datetime)\n",
    "}))\n",
    "\n",
    "# actually iterate over the messages now\n",
    "for channel_name, comments in channel_comments.items():\n",
    "    personal_messages = [\n",
    "        msg for msg in reversed(comments)\n",
    "        # if msg['type'] == 'message' and 'subtype' not in msg\n",
    "        if msg['type'] == 'message' and 'subtype' not in msg and 'thread_ts' not in msg\n",
    "    ]\n",
    "    localized_chats = [\n",
    "        {\n",
    "            'datetime': (datetime\n",
    "            .fromtimestamp(float(msg['ts']), timezone('UTC'))\n",
    "            .astimezone(timezone('US/Eastern'))),\n",
    "            'text': msg['text'],\n",
    "            'user': msg['user']\n",
    "        }\n",
    "        for msg in personal_messages\n",
    "    ]\n",
    "    \n",
    "    # actually print stuff now\n",
    "    \n",
    "    emit(HTML('<h2 style=\"font-size: x-large;\">#%s</h2>' % channel_name))\n",
    "\n",
    "    for day, messages in groupby(localized_chats, lambda x: custom_strftime(\"%A, %B {S}\", x['datetime'])):\n",
    "        emit(HTML('<h3 style=\"color: #555;\">%s</h3>' % day))\n",
    "        emit(HTML('<ul style=\"margin-bottom: 1em;\">'))\n",
    "        \n",
    "        for message in messages:\n",
    "            final_text = find_names_re.sub(replace_name_html, message['text'])\n",
    "            final_text = find_emoji_re.sub(replace_emoji, final_text)\n",
    "            \n",
    "            data = {\n",
    "                'text': final_text,\n",
    "                'timeofday': custom_strftime(\"%-I:%M %p\", message['datetime']),\n",
    "                'author': users_map[message['user']]\n",
    "            }\n",
    "            emit(HTML(\"\"\"<li style=\"margin-bottom: 0.25em;\"><b style=\"font-size: larger;\">%(author)s</b> <span style=\"color: #777; font-size: smaller;\">%(timeofday)s</span><br />%(text)s</li>\"\"\" % data))\n",
    "        \n",
    "        emit(HTML(\"</ul>\"))\n",
    "        \n",
    "# ...and final processing/display\n",
    "\n",
    "for em in emissions:\n",
    "    display(em)"
   ]
  },
  {
   "cell_type": "markdown",
   "metadata": {},
   "source": [
    "# Email result"
   ]
  },
  {
   "cell_type": "code",
   "execution_count": 170,
   "metadata": {},
   "outputs": [],
   "source": [
    "import yagmail\n",
    "yag = yagmail.SMTP('falquaddoomi')"
   ]
  },
  {
   "cell_type": "code",
   "execution_count": 201,
   "metadata": {},
   "outputs": [
    {
     "data": {
      "text/plain": [
       "{}"
      ]
     },
     "execution_count": 201,
     "metadata": {},
     "output_type": "execute_result"
    }
   ],
   "source": [
    "from markdown import markdown\n",
    "html = \"\"\n",
    "\n",
    "for em in emissions:\n",
    "    if type(em) == Markdown:\n",
    "        html += markdown(em.data, safe_mode='escape')\n",
    "    else:\n",
    "        html += em.data\n",
    "\n",
    "# html = \"\".join([markdown(x.data, safe_mode='escape') for x in emissions])\n",
    "html = find_emoji_re.sub(replace_emoji, html)\n",
    "\n",
    "yag.send('falquaddoomi@gmail.com', 'Cornell Tech Weekly Digest', html)"
   ]
  }
 ],
 "metadata": {
  "kernelspec": {
   "display_name": "Python 2",
   "language": "python",
   "name": "python2"
  },
  "language_info": {
   "codemirror_mode": {
    "name": "ipython",
    "version": 2
   },
   "file_extension": ".py",
   "mimetype": "text/x-python",
   "name": "python",
   "nbconvert_exporter": "python",
   "pygments_lexer": "ipython2",
   "version": "2.7.13"
  }
 },
 "nbformat": 4,
 "nbformat_minor": 2
}
