{
 "cells": [
  {
   "cell_type": "markdown",
   "metadata": {},
   "source": [
    "# Preamble"
   ]
  },
  {
   "cell_type": "code",
   "execution_count": 106,
   "metadata": {},
   "outputs": [],
   "source": [
    "from IPython.display import display, Markdown"
   ]
  },
  {
   "cell_type": "markdown",
   "metadata": {},
   "source": [
    "# Make connection to Slack"
   ]
  },
  {
   "cell_type": "code",
   "execution_count": 3,
   "metadata": {},
   "outputs": [],
   "source": [
    "from private_config import SLACK_TOKEN"
   ]
  },
  {
   "cell_type": "code",
   "execution_count": 4,
   "metadata": {},
   "outputs": [],
   "source": [
    "from slackclient import SlackClient\n",
    "\n",
    "sc = SlackClient(SLACK_TOKEN)"
   ]
  },
  {
   "cell_type": "code",
   "execution_count": 5,
   "metadata": {},
   "outputs": [],
   "source": [
    "channel_info = sc.api_call(\"channels.list\")\n",
    "channels = channel_info['channels']"
   ]
  },
  {
   "cell_type": "code",
   "execution_count": 6,
   "metadata": {},
   "outputs": [
    {
     "data": {
      "text/plain": [
       "[(u'building_comments', u'C6GQ4GWMT'),\n",
       " (u'building-comments', u'C6GKKF7U2'),\n",
       " (u'cafe_comments', u'C6FCGM656'),\n",
       " (u'external_relations', u'C2CMBSDG8'),\n",
       " (u'general', u'C2CLS7MHC'),\n",
       " (u'movequestions', u'C3WHBE9JN'),\n",
       " (u'random', u'C2CM9H9BL'),\n",
       " (u'theatreclub', u'C2CLV66QG')]"
      ]
     },
     "execution_count": 6,
     "metadata": {},
     "output_type": "execute_result"
    }
   ],
   "source": [
    "[(k['name'], k['id']) for k in channels]"
   ]
  },
  {
   "cell_type": "code",
   "execution_count": null,
   "metadata": {},
   "outputs": [],
   "source": [
    "users = sc.api_call(\"users\")"
   ]
  },
  {
   "cell_type": "markdown",
   "metadata": {},
   "source": [
    "# Get messages of interest\n",
    "\n",
    "(i.e. building_comments and cafe_comments from actual users)"
   ]
  },
  {
   "cell_type": "code",
   "execution_count": 7,
   "metadata": {},
   "outputs": [
    {
     "data": {
      "text/plain": [
       "{u'building_comments': u'C6GQ4GWMT', u'cafe_comments': u'C6FCGM656'}"
      ]
     },
     "execution_count": 7,
     "metadata": {},
     "output_type": "execute_result"
    }
   ],
   "source": [
    "included_channels = [u'building_comments', u'cafe_comments']\n",
    "channel_ids = dict([(k['name'], k['id']) for k in channels if k['name'] in included_channels])\n",
    "channel_ids"
   ]
  },
  {
   "cell_type": "code",
   "execution_count": 107,
   "metadata": {},
   "outputs": [
    {
     "name": "stdout",
     "output_type": "stream",
     "text": [
      "grabbing history for building_comments...\n",
      "grabbing history for cafe_comments...\n"
     ]
    }
   ],
   "source": [
    "channel_comments = {}\n",
    "\n",
    "for cid in channel_ids:\n",
    "    print \"grabbing history for %s...\" % cid\n",
    "    # grab the history for each\n",
    "    results = sc.api_call(\"channels.history\", channel=channel_ids[cid], count=1000)\n",
    "    channel_comments[cid] = results['messages']"
   ]
  },
  {
   "cell_type": "code",
   "execution_count": 108,
   "metadata": {},
   "outputs": [],
   "source": [
    "chat_messages = [msg for msg in reversed(channel_comments['cafe_comments']) if msg['type'] == 'message' and 'subtype' not in msg]"
   ]
  },
  {
   "cell_type": "markdown",
   "metadata": {},
   "source": [
    "# Format and display messages"
   ]
  },
  {
   "cell_type": "code",
   "execution_count": 109,
   "metadata": {},
   "outputs": [],
   "source": [
    "from itertools import groupby\n",
    "from datetime import datetime\n",
    "from pytz import timezone"
   ]
  },
  {
   "cell_type": "code",
   "execution_count": 110,
   "metadata": {},
   "outputs": [
    {
     "name": "stdout",
     "output_type": "stream",
     "text": [
      "August 4th, 2017\n"
     ]
    }
   ],
   "source": [
    "def suffix(d):\n",
    "    return 'th' if 11<=d<=13 else {1:'st',2:'nd',3:'rd'}.get(d%10, 'th')\n",
    "\n",
    "def custom_strftime(format, t):\n",
    "    return t.strftime(format).replace('{S}', str(t.day) + suffix(t.day))\n",
    "\n",
    "print custom_strftime('%B {S}, %Y', datetime.now())"
   ]
  },
  {
   "cell_type": "code",
   "execution_count": 111,
   "metadata": {},
   "outputs": [],
   "source": [
    "formatted_chats = [\n",
    "    {\n",
    "        'datetime': (datetime\n",
    "        .fromtimestamp(float(msg['ts']), timezone('UTC'))\n",
    "        .astimezone(timezone('US/Eastern'))),\n",
    "        'text': msg['text']\n",
    "    }\n",
    "    for msg in chat_messages\n",
    "]"
   ]
  },
  {
   "cell_type": "code",
   "execution_count": 116,
   "metadata": {},
   "outputs": [],
   "source": [
    "def escape_markdown(text):\n",
    "    return text.replace(\"*\", \"\\*\")"
   ]
  },
  {
   "cell_type": "code",
   "execution_count": 120,
   "metadata": {},
   "outputs": [
    {
     "data": {
      "text/plain": [
       "[u'Monday, July 31st, 1:55PM: <@U58RD27SN> ',\n",
       " u'Monday, July 31st, 6:36PM: Hey ',\n",
       " u'Monday, July 31st, 7:02PM: <@U61K5FHQU> <@U58RD27SN> ',\n",
       " u'Monday, July 31st, 7:40PM: White bean soup was great',\n",
       " u'Monday, July 31st, 7:40PM: Fresh peach was not edible ',\n",
       " u'Monday, July 31st, 7:41PM: Double espresso was perfect',\n",
       " u'Tuesday, August 1st, 1:09PM: 2nd day in a row of perfect espresso',\n",
       " u'Tuesday, August 1st, 1:10PM: Studybot campus-survey',\n",
       " u'Tuesday, August 1st, 1:11PM: studybot campus-survey',\n",
       " u'Tuesday, August 1st, 2:26PM: Had a sandwich: turkey, mozzarella, all the veggies on multigrain.  It was very good.',\n",
       " u'Wednesday, August 2nd, 9:07AM: made to order omelette: (turkey, onions, and peppers): well-seasoned and perfectly cooked. (the _only_ thing is the cafe is still waiting on hot sauce..) but other than that, glowing reviews for breakfast!',\n",
       " u'Wednesday, August 2nd, 9:10AM: :+1::skin-tone-5:',\n",
       " u'Wednesday, August 2nd, 9:40AM: STARR should look into their credit card processing agreement. Signatures should not be required for purchases at the cafe under $50.',\n",
       " u\"Wednesday, August 2nd, 9:41AM: Coffee has been great, and I agree with julianakm - omelette is really good, and they're getting quicker are preparing them.\",\n",
       " u'Wednesday, August 2nd, 9:44AM: *at',\n",
       " u\"Wednesday, August 2nd, 10:24AM: I'm hoping they'll get some small protein salads free of starches/grains. (Like a small container of chicken salad, tuna, etc.) Quite a few people on campus are avoiding those for medical and health reasons so something quick &amp; protein-rich besides the full salad bar would be good.\",\n",
       " u'Wednesday, August 2nd, 10:40AM: I suggest having an option for a cup of soup and a half salad.  My other suggestion is to have a shaker bottle of cinnamon to add to coffee.',\n",
       " u\"Wednesday, August 2nd, 12:04PM: I'd like to see coconut milk as another alternative milk option.\",\n",
       " u'Wednesday, August 2nd, 12:07PM: Also, apple pay :slightly_smiling_face:',\n",
       " u'Wednesday, August 2nd, 3:55PM: they did not ask me to sign any receipts at 2ish so they must have gotten the memo :slightly_smiling_face:',\n",
       " u\"Wednesday, August 2nd, 4:32PM: I would like to second <@U2CM9H6KC> 's request for an alternative milk options... and throw in a vote for Unsweetened Almond Milk (Throwback to #15th floor life)\",\n",
       " u'Thursday, August 3rd, 2:26PM: tomato bisque was :100:',\n",
       " u'Thursday, August 3rd, 3:48PM: I had a good fruit roll-up today.',\n",
       " u'Friday, August 4th, 10:19AM: There be hot sauce now! :pray:',\n",
       " u'Friday, August 4th, 10:23AM: Bagel everything was good',\n",
       " u'Friday, August 4th, 10:23AM: Soups are generally very good']"
      ]
     },
     "execution_count": 120,
     "metadata": {},
     "output_type": "execute_result"
    }
   ],
   "source": [
    "[\"%s: %s\" % (custom_strftime(\"%A, %B {S}, %-I:%M%p\", msg['datetime']), msg['text']) for msg in formatted_chats]"
   ]
  },
  {
   "cell_type": "code",
   "execution_count": 132,
   "metadata": {},
   "outputs": [
    {
     "name": "stdout",
     "output_type": "stream",
     "text": [
      "Monday, July 7 [{'text': u'<@U58RD27SN> ', 'datetime': datetime.datetime(2017, 7, 31, 13, 55, 16, 28220, tzinfo=<DstTzInfo 'US/Eastern' EDT-1 day, 20:00:00 DST>)}, {'text': u'Hey ', 'datetime': datetime.datetime(2017, 7, 31, 18, 36, 3, 446092, tzinfo=<DstTzInfo 'US/Eastern' EDT-1 day, 20:00:00 DST>)}, {'text': u'<@U61K5FHQU> <@U58RD27SN> ', 'datetime': datetime.datetime(2017, 7, 31, 19, 2, 10, 920502, tzinfo=<DstTzInfo 'US/Eastern' EDT-1 day, 20:00:00 DST>)}, {'text': u'White bean soup was great', 'datetime': datetime.datetime(2017, 7, 31, 19, 40, 28, 546795, tzinfo=<DstTzInfo 'US/Eastern' EDT-1 day, 20:00:00 DST>)}, {'text': u'Fresh peach was not edible ', 'datetime': datetime.datetime(2017, 7, 31, 19, 40, 51, 552736, tzinfo=<DstTzInfo 'US/Eastern' EDT-1 day, 20:00:00 DST>)}, {'text': u'Double espresso was perfect', 'datetime': datetime.datetime(2017, 7, 31, 19, 41, 1, 555391, tzinfo=<DstTzInfo 'US/Eastern' EDT-1 day, 20:00:00 DST>)}]\n",
      "Tuesday, August 8 [{'text': u'2nd day in a row of perfect espresso', 'datetime': datetime.datetime(2017, 8, 1, 13, 9, 36, 356084, tzinfo=<DstTzInfo 'US/Eastern' EDT-1 day, 20:00:00 DST>)}, {'text': u'Studybot campus-survey', 'datetime': datetime.datetime(2017, 8, 1, 13, 10, 51, 399049, tzinfo=<DstTzInfo 'US/Eastern' EDT-1 day, 20:00:00 DST>)}, {'text': u'studybot campus-survey', 'datetime': datetime.datetime(2017, 8, 1, 13, 11, 35, 425236, tzinfo=<DstTzInfo 'US/Eastern' EDT-1 day, 20:00:00 DST>)}, {'text': u'Had a sandwich: turkey, mozzarella, all the veggies on multigrain.  It was very good.', 'datetime': datetime.datetime(2017, 8, 1, 14, 26, 16, 123582, tzinfo=<DstTzInfo 'US/Eastern' EDT-1 day, 20:00:00 DST>)}]\n",
      "Wednesday, August 8 [{'text': u'made to order omelette: (turkey, onions, and peppers): well-seasoned and perfectly cooked. (the _only_ thing is the cafe is still waiting on hot sauce..) but other than that, glowing reviews for breakfast!', 'datetime': datetime.datetime(2017, 8, 2, 9, 7, 33, 577303, tzinfo=<DstTzInfo 'US/Eastern' EDT-1 day, 20:00:00 DST>)}, {'text': u':+1::skin-tone-5:', 'datetime': datetime.datetime(2017, 8, 2, 9, 10, 47, 672121, tzinfo=<DstTzInfo 'US/Eastern' EDT-1 day, 20:00:00 DST>)}, {'text': u'STARR should look into their credit card processing agreement. Signatures should not be required for purchases at the cafe under $50.', 'datetime': datetime.datetime(2017, 8, 2, 9, 40, 6, 613902, tzinfo=<DstTzInfo 'US/Eastern' EDT-1 day, 20:00:00 DST>)}, {'text': u\"Coffee has been great, and I agree with julianakm - omelette is really good, and they're getting quicker are preparing them.\", 'datetime': datetime.datetime(2017, 8, 2, 9, 41, 39, 667108, tzinfo=<DstTzInfo 'US/Eastern' EDT-1 day, 20:00:00 DST>)}, {'text': u'*at', 'datetime': datetime.datetime(2017, 8, 2, 9, 44, 10, 753082, tzinfo=<DstTzInfo 'US/Eastern' EDT-1 day, 20:00:00 DST>)}, {'text': u\"I'm hoping they'll get some small protein salads free of starches/grains. (Like a small container of chicken salad, tuna, etc.) Quite a few people on campus are avoiding those for medical and health reasons so something quick &amp; protein-rich besides the full salad bar would be good.\", 'datetime': datetime.datetime(2017, 8, 2, 10, 24, 58, 284962, tzinfo=<DstTzInfo 'US/Eastern' EDT-1 day, 20:00:00 DST>)}, {'text': u'I suggest having an option for a cup of soup and a half salad.  My other suggestion is to have a shaker bottle of cinnamon to add to coffee.', 'datetime': datetime.datetime(2017, 8, 2, 10, 40, 26, 898181, tzinfo=<DstTzInfo 'US/Eastern' EDT-1 day, 20:00:00 DST>)}, {'text': u\"I'd like to see coconut milk as another alternative milk option.\", 'datetime': datetime.datetime(2017, 8, 2, 12, 4, 55, 301226, tzinfo=<DstTzInfo 'US/Eastern' EDT-1 day, 20:00:00 DST>)}, {'text': u'Also, apple pay :slightly_smiling_face:', 'datetime': datetime.datetime(2017, 8, 2, 12, 7, 11, 386620, tzinfo=<DstTzInfo 'US/Eastern' EDT-1 day, 20:00:00 DST>)}, {'text': u'they did not ask me to sign any receipts at 2ish so they must have gotten the memo :slightly_smiling_face:', 'datetime': datetime.datetime(2017, 8, 2, 15, 55, 28, 405682, tzinfo=<DstTzInfo 'US/Eastern' EDT-1 day, 20:00:00 DST>)}, {'text': u\"I would like to second <@U2CM9H6KC> 's request for an alternative milk options... and throw in a vote for Unsweetened Almond Milk (Throwback to #15th floor life)\", 'datetime': datetime.datetime(2017, 8, 2, 16, 32, 43, 635857, tzinfo=<DstTzInfo 'US/Eastern' EDT-1 day, 20:00:00 DST>)}]\n",
      "Thursday, August 8 [{'text': u'tomato bisque was :100:', 'datetime': datetime.datetime(2017, 8, 3, 14, 26, 33, 432709, tzinfo=<DstTzInfo 'US/Eastern' EDT-1 day, 20:00:00 DST>)}, {'text': u'I had a good fruit roll-up today.', 'datetime': datetime.datetime(2017, 8, 3, 15, 48, 3, 133530, tzinfo=<DstTzInfo 'US/Eastern' EDT-1 day, 20:00:00 DST>)}]\n",
      "Friday, August 8 [{'text': u'There be hot sauce now! :pray:', 'datetime': datetime.datetime(2017, 8, 4, 10, 19, 41, 390047, tzinfo=<DstTzInfo 'US/Eastern' EDT-1 day, 20:00:00 DST>)}, {'text': u'Bagel everything was good', 'datetime': datetime.datetime(2017, 8, 4, 10, 23, 26, 517856, tzinfo=<DstTzInfo 'US/Eastern' EDT-1 day, 20:00:00 DST>)}, {'text': u'Soups are generally very good', 'datetime': datetime.datetime(2017, 8, 4, 10, 23, 44, 528429, tzinfo=<DstTzInfo 'US/Eastern' EDT-1 day, 20:00:00 DST>)}]\n"
     ]
    }
   ],
   "source": [
    "grouped_messages = groupby(formatted_chats, lambda x: x['datetime'].strftime(\"%A, %B %-m\"))\n",
    "for date in (grouped_messages):\n",
    "    print date[0], list(date[1])"
   ]
  },
  {
   "cell_type": "code",
   "execution_count": 163,
   "metadata": {},
   "outputs": [
    {
     "data": {
      "text/markdown": [
       "## \\#building_comments"
      ],
      "text/plain": [
       "<IPython.core.display.Markdown object>"
      ]
     },
     "metadata": {},
     "output_type": "display_data"
    },
    {
     "data": {
      "text/markdown": [
       "### Thursday, August 3rd"
      ],
      "text/plain": [
       "<IPython.core.display.Markdown object>"
      ]
     },
     "metadata": {},
     "output_type": "display_data"
    },
    {
     "data": {
      "text/markdown": [
       "&nbsp;&nbsp; *3:47 PM*: Maybe <@U6AKZKWBY> shouldn’t be part of this channel."
      ],
      "text/plain": [
       "<IPython.core.display.Markdown object>"
      ]
     },
     "metadata": {},
     "output_type": "display_data"
    },
    {
     "data": {
      "text/markdown": [
       "&nbsp;&nbsp; *3:47 PM*: Anyway, WiFi (eduroam) in 2B today was on the edge of being unusable."
      ],
      "text/plain": [
       "<IPython.core.display.Markdown object>"
      ]
     },
     "metadata": {},
     "output_type": "display_data"
    },
    {
     "data": {
      "text/markdown": [
       "&nbsp;&nbsp; *3:49 PM*: sorry I am trying to remove it"
      ],
      "text/plain": [
       "<IPython.core.display.Markdown object>"
      ]
     },
     "metadata": {},
     "output_type": "display_data"
    },
    {
     "data": {
      "text/markdown": [
       "&nbsp;&nbsp; *3:59 PM*: \\remove <@U6AKZKWBY>"
      ],
      "text/plain": [
       "<IPython.core.display.Markdown object>"
      ]
     },
     "metadata": {},
     "output_type": "display_data"
    },
    {
     "data": {
      "text/markdown": [
       "&nbsp;&nbsp; *4:02 PM*: Maybe we can borrow a working wifi, is that in the box? :slightly_smiling_face:"
      ],
      "text/plain": [
       "<IPython.core.display.Markdown object>"
      ]
     },
     "metadata": {},
     "output_type": "display_data"
    },
    {
     "data": {
      "text/markdown": [
       "&nbsp;&nbsp; *4:07 PM*: sorry, I don’t think I have the rights to kick the bot. I didn’t add it, either. can someone with rights please remove it? much appreciated."
      ],
      "text/plain": [
       "<IPython.core.display.Markdown object>"
      ]
     },
     "metadata": {},
     "output_type": "display_data"
    },
    {
     "data": {
      "text/markdown": [
       "&nbsp;&nbsp; *4:07 PM*: exit"
      ],
      "text/plain": [
       "<IPython.core.display.Markdown object>"
      ]
     },
     "metadata": {},
     "output_type": "display_data"
    },
    {
     "data": {
      "text/markdown": [
       "## \\#cafe_comments"
      ],
      "text/plain": [
       "<IPython.core.display.Markdown object>"
      ]
     },
     "metadata": {},
     "output_type": "display_data"
    },
    {
     "data": {
      "text/markdown": [
       "### Monday, July 31st"
      ],
      "text/plain": [
       "<IPython.core.display.Markdown object>"
      ]
     },
     "metadata": {},
     "output_type": "display_data"
    },
    {
     "data": {
      "text/markdown": [
       "&nbsp;&nbsp; *1:55 PM*: <@U58RD27SN> "
      ],
      "text/plain": [
       "<IPython.core.display.Markdown object>"
      ]
     },
     "metadata": {},
     "output_type": "display_data"
    },
    {
     "data": {
      "text/markdown": [
       "&nbsp;&nbsp; *6:36 PM*: Hey "
      ],
      "text/plain": [
       "<IPython.core.display.Markdown object>"
      ]
     },
     "metadata": {},
     "output_type": "display_data"
    },
    {
     "data": {
      "text/markdown": [
       "&nbsp;&nbsp; *7:02 PM*: <@U61K5FHQU> <@U58RD27SN> "
      ],
      "text/plain": [
       "<IPython.core.display.Markdown object>"
      ]
     },
     "metadata": {},
     "output_type": "display_data"
    },
    {
     "data": {
      "text/markdown": [
       "&nbsp;&nbsp; *7:40 PM*: White bean soup was great"
      ],
      "text/plain": [
       "<IPython.core.display.Markdown object>"
      ]
     },
     "metadata": {},
     "output_type": "display_data"
    },
    {
     "data": {
      "text/markdown": [
       "&nbsp;&nbsp; *7:40 PM*: Fresh peach was not edible "
      ],
      "text/plain": [
       "<IPython.core.display.Markdown object>"
      ]
     },
     "metadata": {},
     "output_type": "display_data"
    },
    {
     "data": {
      "text/markdown": [
       "&nbsp;&nbsp; *7:41 PM*: Double espresso was perfect"
      ],
      "text/plain": [
       "<IPython.core.display.Markdown object>"
      ]
     },
     "metadata": {},
     "output_type": "display_data"
    },
    {
     "data": {
      "text/markdown": [
       "### Tuesday, August 1st"
      ],
      "text/plain": [
       "<IPython.core.display.Markdown object>"
      ]
     },
     "metadata": {},
     "output_type": "display_data"
    },
    {
     "data": {
      "text/markdown": [
       "&nbsp;&nbsp; *1:09 PM*: 2nd day in a row of perfect espresso"
      ],
      "text/plain": [
       "<IPython.core.display.Markdown object>"
      ]
     },
     "metadata": {},
     "output_type": "display_data"
    },
    {
     "data": {
      "text/markdown": [
       "&nbsp;&nbsp; *1:10 PM*: Studybot campus-survey"
      ],
      "text/plain": [
       "<IPython.core.display.Markdown object>"
      ]
     },
     "metadata": {},
     "output_type": "display_data"
    },
    {
     "data": {
      "text/markdown": [
       "&nbsp;&nbsp; *1:11 PM*: studybot campus-survey"
      ],
      "text/plain": [
       "<IPython.core.display.Markdown object>"
      ]
     },
     "metadata": {},
     "output_type": "display_data"
    },
    {
     "data": {
      "text/markdown": [
       "&nbsp;&nbsp; *2:26 PM*: Had a sandwich: turkey, mozzarella, all the veggies on multigrain.  It was very good."
      ],
      "text/plain": [
       "<IPython.core.display.Markdown object>"
      ]
     },
     "metadata": {},
     "output_type": "display_data"
    },
    {
     "data": {
      "text/markdown": [
       "### Wednesday, August 2nd"
      ],
      "text/plain": [
       "<IPython.core.display.Markdown object>"
      ]
     },
     "metadata": {},
     "output_type": "display_data"
    },
    {
     "data": {
      "text/markdown": [
       "&nbsp;&nbsp; *9:07 AM*: made to order omelette: (turkey, onions, and peppers): well-seasoned and perfectly cooked. (the _only_ thing is the cafe is still waiting on hot sauce..) but other than that, glowing reviews for breakfast!"
      ],
      "text/plain": [
       "<IPython.core.display.Markdown object>"
      ]
     },
     "metadata": {},
     "output_type": "display_data"
    },
    {
     "data": {
      "text/markdown": [
       "&nbsp;&nbsp; *9:10 AM*: :+1::skin-tone-5:"
      ],
      "text/plain": [
       "<IPython.core.display.Markdown object>"
      ]
     },
     "metadata": {},
     "output_type": "display_data"
    },
    {
     "data": {
      "text/markdown": [
       "&nbsp;&nbsp; *9:40 AM*: STARR should look into their credit card processing agreement. Signatures should not be required for purchases at the cafe under $50."
      ],
      "text/plain": [
       "<IPython.core.display.Markdown object>"
      ]
     },
     "metadata": {},
     "output_type": "display_data"
    },
    {
     "data": {
      "text/markdown": [
       "&nbsp;&nbsp; *9:41 AM*: Coffee has been great, and I agree with julianakm - omelette is really good, and they're getting quicker are preparing them."
      ],
      "text/plain": [
       "<IPython.core.display.Markdown object>"
      ]
     },
     "metadata": {},
     "output_type": "display_data"
    },
    {
     "data": {
      "text/markdown": [
       "&nbsp;&nbsp; *9:44 AM*: *at"
      ],
      "text/plain": [
       "<IPython.core.display.Markdown object>"
      ]
     },
     "metadata": {},
     "output_type": "display_data"
    },
    {
     "data": {
      "text/markdown": [
       "&nbsp;&nbsp; *10:24 AM*: I'm hoping they'll get some small protein salads free of starches/grains. (Like a small container of chicken salad, tuna, etc.) Quite a few people on campus are avoiding those for medical and health reasons so something quick &amp; protein-rich besides the full salad bar would be good."
      ],
      "text/plain": [
       "<IPython.core.display.Markdown object>"
      ]
     },
     "metadata": {},
     "output_type": "display_data"
    },
    {
     "data": {
      "text/markdown": [
       "&nbsp;&nbsp; *10:40 AM*: I suggest having an option for a cup of soup and a half salad.  My other suggestion is to have a shaker bottle of cinnamon to add to coffee."
      ],
      "text/plain": [
       "<IPython.core.display.Markdown object>"
      ]
     },
     "metadata": {},
     "output_type": "display_data"
    },
    {
     "data": {
      "text/markdown": [
       "&nbsp;&nbsp; *12:04 PM*: I'd like to see coconut milk as another alternative milk option."
      ],
      "text/plain": [
       "<IPython.core.display.Markdown object>"
      ]
     },
     "metadata": {},
     "output_type": "display_data"
    },
    {
     "data": {
      "text/markdown": [
       "&nbsp;&nbsp; *12:07 PM*: Also, apple pay :slightly_smiling_face:"
      ],
      "text/plain": [
       "<IPython.core.display.Markdown object>"
      ]
     },
     "metadata": {},
     "output_type": "display_data"
    },
    {
     "data": {
      "text/markdown": [
       "&nbsp;&nbsp; *3:55 PM*: they did not ask me to sign any receipts at 2ish so they must have gotten the memo :slightly_smiling_face:"
      ],
      "text/plain": [
       "<IPython.core.display.Markdown object>"
      ]
     },
     "metadata": {},
     "output_type": "display_data"
    },
    {
     "data": {
      "text/markdown": [
       "&nbsp;&nbsp; *4:32 PM*: I would like to second <@U2CM9H6KC> 's request for an alternative milk options... and throw in a vote for Unsweetened Almond Milk (Throwback to #15th floor life)"
      ],
      "text/plain": [
       "<IPython.core.display.Markdown object>"
      ]
     },
     "metadata": {},
     "output_type": "display_data"
    },
    {
     "data": {
      "text/markdown": [
       "### Thursday, August 3rd"
      ],
      "text/plain": [
       "<IPython.core.display.Markdown object>"
      ]
     },
     "metadata": {},
     "output_type": "display_data"
    },
    {
     "data": {
      "text/markdown": [
       "&nbsp;&nbsp; *2:26 PM*: tomato bisque was :100:"
      ],
      "text/plain": [
       "<IPython.core.display.Markdown object>"
      ]
     },
     "metadata": {},
     "output_type": "display_data"
    },
    {
     "data": {
      "text/markdown": [
       "&nbsp;&nbsp; *3:48 PM*: I had a good fruit roll-up today."
      ],
      "text/plain": [
       "<IPython.core.display.Markdown object>"
      ]
     },
     "metadata": {},
     "output_type": "display_data"
    },
    {
     "data": {
      "text/markdown": [
       "### Friday, August 4th"
      ],
      "text/plain": [
       "<IPython.core.display.Markdown object>"
      ]
     },
     "metadata": {},
     "output_type": "display_data"
    },
    {
     "data": {
      "text/markdown": [
       "&nbsp;&nbsp; *10:19 AM*: There be hot sauce now! :pray:"
      ],
      "text/plain": [
       "<IPython.core.display.Markdown object>"
      ]
     },
     "metadata": {},
     "output_type": "display_data"
    },
    {
     "data": {
      "text/markdown": [
       "&nbsp;&nbsp; *10:23 AM*: Bagel everything was good"
      ],
      "text/plain": [
       "<IPython.core.display.Markdown object>"
      ]
     },
     "metadata": {},
     "output_type": "display_data"
    },
    {
     "data": {
      "text/markdown": [
       "&nbsp;&nbsp; *10:23 AM*: Soups are generally very good"
      ],
      "text/plain": [
       "<IPython.core.display.Markdown object>"
      ]
     },
     "metadata": {},
     "output_type": "display_data"
    }
   ],
   "source": [
    "for channel_name, comments in channel_comments.items():\n",
    "    personal_messages = [msg for msg in reversed(comments) if msg['type'] == 'message' and 'subtype' not in msg]\n",
    "    localized_chats = [\n",
    "        {\n",
    "            'datetime': (datetime\n",
    "            .fromtimestamp(float(msg['ts']), timezone('UTC'))\n",
    "            .astimezone(timezone('US/Eastern'))),\n",
    "            'text': msg['text']\n",
    "        }\n",
    "        for msg in personal_messages\n",
    "    ]\n",
    "    \n",
    "    display(Markdown(\"## \\#%s\" % channel_name))\n",
    "\n",
    "    for day in groupby(localized_chats, lambda x: custom_strftime(\"%A, %B {S}\", x['datetime'])):\n",
    "        display(Markdown(\"### %s\" % day[0]))\n",
    "\n",
    "        for message in day[1]:\n",
    "            display(Markdown(\"&nbsp;&nbsp; *%s*: %s\" % (custom_strftime(\"%-I:%M %p\", message['datetime']), message['text']) ))\n",
    "\n",
    "        # display(Markdown(\"<br />\"))\n",
    "\n",
    "# display(Markdown(\"<br />\".join([\"**%s:**<br />&nbsp;&nbsp;%s\" % (custom_strftime(\"%A, %B {S}, %-I:%M%p\", msg['datetime']), escape_markdown(msg['text'])) for msg in formatted_chats])))"
   ]
  }
 ],
 "metadata": {
  "kernelspec": {
   "display_name": "Python 2",
   "language": "python",
   "name": "python2"
  },
  "language_info": {
   "codemirror_mode": {
    "name": "ipython",
    "version": 2
   },
   "file_extension": ".py",
   "mimetype": "text/x-python",
   "name": "python",
   "nbconvert_exporter": "python",
   "pygments_lexer": "ipython2",
   "version": "2.7.13"
  }
 },
 "nbformat": 4,
 "nbformat_minor": 2
}
