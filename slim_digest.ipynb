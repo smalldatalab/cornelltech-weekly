{
 "cells": [
  {
   "cell_type": "markdown",
   "metadata": {},
   "source": [
    "# Preamble"
   ]
  },
  {
   "cell_type": "code",
   "execution_count": 2,
   "metadata": {},
   "outputs": [],
   "source": [
    "from IPython.display import display, Markdown, HTML"
   ]
  },
  {
   "cell_type": "markdown",
   "metadata": {},
   "source": [
    "# Make connection to Slack"
   ]
  },
  {
   "cell_type": "code",
   "execution_count": 3,
   "metadata": {},
   "outputs": [],
   "source": [
    "from private_config import SLACK_TOKEN"
   ]
  },
  {
   "cell_type": "code",
   "execution_count": 4,
   "metadata": {},
   "outputs": [],
   "source": [
    "from slackclient import SlackClient\n",
    "\n",
    "sc = SlackClient(SLACK_TOKEN)"
   ]
  },
  {
   "cell_type": "code",
   "execution_count": 5,
   "metadata": {},
   "outputs": [],
   "source": [
    "channel_info = sc.api_call(\"channels.list\")\n",
    "channels = channel_info['channels']"
   ]
  },
  {
   "cell_type": "code",
   "execution_count": 6,
   "metadata": {},
   "outputs": [
    {
     "data": {
      "text/plain": [
       "[(u'building_comments', u'C6GQ4GWMT'),\n",
       " (u'building-comments', u'C6GKKF7U2'),\n",
       " (u'cafe_comments', u'C6FCGM656'),\n",
       " (u'external_relations', u'C2CMBSDG8'),\n",
       " (u'general', u'C2CLS7MHC'),\n",
       " (u'movequestions', u'C3WHBE9JN'),\n",
       " (u'random', u'C2CM9H9BL'),\n",
       " (u'theatreclub', u'C2CLV66QG')]"
      ]
     },
     "execution_count": 6,
     "metadata": {},
     "output_type": "execute_result"
    }
   ],
   "source": [
    "[(k['name'], k['id']) for k in channels]"
   ]
  },
  {
   "cell_type": "code",
   "execution_count": 7,
   "metadata": {},
   "outputs": [],
   "source": [
    "users = sc.api_call(\"users.list\")\n",
    "users_map = dict([(x['id'], x['name']) for x in users['members']])"
   ]
  },
  {
   "cell_type": "markdown",
   "metadata": {},
   "source": [
    "# Get messages of interest\n",
    "\n",
    "(i.e. building_comments and cafe_comments from actual users)"
   ]
  },
  {
   "cell_type": "code",
   "execution_count": 8,
   "metadata": {},
   "outputs": [
    {
     "data": {
      "text/plain": [
       "{u'building_comments': u'C6GQ4GWMT', u'cafe_comments': u'C6FCGM656'}"
      ]
     },
     "execution_count": 8,
     "metadata": {},
     "output_type": "execute_result"
    }
   ],
   "source": [
    "included_channels = [u'building_comments', u'cafe_comments']\n",
    "channel_ids = dict([(k['name'], k['id']) for k in channels if k['name'] in included_channels])\n",
    "channel_ids"
   ]
  },
  {
   "cell_type": "code",
   "execution_count": 9,
   "metadata": {},
   "outputs": [
    {
     "name": "stdout",
     "output_type": "stream",
     "text": [
      "grabbing history for building_comments...\n",
      "grabbing history for cafe_comments...\n"
     ]
    }
   ],
   "source": [
    "channel_comments = {}\n",
    "\n",
    "for cid in channel_ids:\n",
    "    print \"grabbing history for %s...\" % cid\n",
    "    # grab the history for each\n",
    "    results = sc.api_call(\"channels.history\", channel=channel_ids[cid], count=1000)\n",
    "    channel_comments[cid] = results['messages']"
   ]
  },
  {
   "cell_type": "code",
   "execution_count": 10,
   "metadata": {},
   "outputs": [],
   "source": [
    "# this transformed version is used elsewhere\n",
    "chat_messages = [\n",
    "    msg for msg in reversed(channel_comments['cafe_comments'])\n",
    "    if msg['type'] == 'message' and 'subtype' not in msg and 'thread_ts' not in msg\n",
    "]"
   ]
  },
  {
   "cell_type": "markdown",
   "metadata": {},
   "source": [
    "# Aside: Emoji Rendering"
   ]
  },
  {
   "cell_type": "code",
   "execution_count": 11,
   "metadata": {},
   "outputs": [],
   "source": [
    "import json\n",
    "with open(\"./node_modules/emoji-datasource-apple/emoji.json\") as fp:\n",
    "    emoji = json.load(fp)\n",
    "    \n",
    "# build a mapping from shortname to emoji info that we'll use later on\n",
    "shortname_to_emoji = dict([(x['short_name'], x) for x in emoji])"
   ]
  },
  {
   "cell_type": "markdown",
   "metadata": {},
   "source": [
    "# Format and display messages"
   ]
  },
  {
   "cell_type": "code",
   "execution_count": 12,
   "metadata": {},
   "outputs": [],
   "source": [
    "from itertools import groupby\n",
    "from datetime import datetime\n",
    "from pytz import timezone"
   ]
  },
  {
   "cell_type": "code",
   "execution_count": 13,
   "metadata": {},
   "outputs": [
    {
     "name": "stdout",
     "output_type": "stream",
     "text": [
      "August 5th, 2017\n"
     ]
    }
   ],
   "source": [
    "# nice date formatting\n",
    "def suffix(d):\n",
    "    return 'th' if 11<=d<=13 else {1:'st',2:'nd',3:'rd'}.get(d%10, 'th')\n",
    "\n",
    "def custom_strftime(format, t):\n",
    "    return t.strftime(format).replace('{S}', str(t.day) + suffix(t.day))\n",
    "\n",
    "print custom_strftime('%B {S}, %Y', datetime.now())"
   ]
  },
  {
   "cell_type": "code",
   "execution_count": 14,
   "metadata": {},
   "outputs": [],
   "source": [
    "formatted_chats = [\n",
    "    {\n",
    "        'datetime': (datetime\n",
    "        .fromtimestamp(float(msg['ts']), timezone('UTC'))\n",
    "        .astimezone(timezone('US/Eastern'))),\n",
    "        'text': msg['text']\n",
    "    }\n",
    "    for msg in chat_messages\n",
    "]"
   ]
  },
  {
   "cell_type": "code",
   "execution_count": 18,
   "metadata": {},
   "outputs": [],
   "source": [
    "def escape_markdown(text):\n",
    "    return text.replace(\"*\", \"\\*\")"
   ]
  },
  {
   "cell_type": "code",
   "execution_count": 19,
   "metadata": {},
   "outputs": [
    {
     "data": {
      "text/plain": [
       "[u'Monday, July 31st, 1:55PM: <@U58RD27SN> ',\n",
       " u'Monday, July 31st, 6:36PM: Hey ',\n",
       " u'Monday, July 31st, 7:02PM: <@U61K5FHQU> <@U58RD27SN> ',\n",
       " u'Monday, July 31st, 7:40PM: White bean soup was great',\n",
       " u'Monday, July 31st, 7:40PM: Fresh peach was not edible ',\n",
       " u'Monday, July 31st, 7:41PM: Double espresso was perfect',\n",
       " u'Tuesday, August 1st, 1:09PM: 2nd day in a row of perfect espresso',\n",
       " u'Tuesday, August 1st, 1:10PM: Studybot campus-survey',\n",
       " u'Tuesday, August 1st, 1:11PM: studybot campus-survey',\n",
       " u'Tuesday, August 1st, 2:26PM: Had a sandwich: turkey, mozzarella, all the veggies on multigrain.  It was very good.',\n",
       " u'Wednesday, August 2nd, 9:07AM: made to order omelette: (turkey, onions, and peppers): well-seasoned and perfectly cooked. (the _only_ thing is the cafe is still waiting on hot sauce..) but other than that, glowing reviews for breakfast!',\n",
       " u'Wednesday, August 2nd, 9:10AM: :+1::skin-tone-5:',\n",
       " u'Wednesday, August 2nd, 9:40AM: STARR should look into their credit card processing agreement. Signatures should not be required for purchases at the cafe under $50.',\n",
       " u\"Wednesday, August 2nd, 9:41AM: Coffee has been great, and I agree with julianakm - omelette is really good, and they're getting quicker are preparing them.\",\n",
       " u'Wednesday, August 2nd, 9:44AM: *at',\n",
       " u\"Wednesday, August 2nd, 10:24AM: I'm hoping they'll get some small protein salads free of starches/grains. (Like a small container of chicken salad, tuna, etc.) Quite a few people on campus are avoiding those for medical and health reasons so something quick &amp; protein-rich besides the full salad bar would be good.\",\n",
       " u'Wednesday, August 2nd, 10:40AM: I suggest having an option for a cup of soup and a half salad.  My other suggestion is to have a shaker bottle of cinnamon to add to coffee.',\n",
       " u\"Wednesday, August 2nd, 12:04PM: I'd like to see coconut milk as another alternative milk option.\",\n",
       " u'Wednesday, August 2nd, 12:07PM: Also, apple pay :slightly_smiling_face:',\n",
       " u'Wednesday, August 2nd, 3:55PM: they did not ask me to sign any receipts at 2ish so they must have gotten the memo :slightly_smiling_face:',\n",
       " u\"Wednesday, August 2nd, 4:32PM: I would like to second <@U2CM9H6KC> 's request for an alternative milk options... and throw in a vote for Unsweetened Almond Milk (Throwback to #15th floor life)\",\n",
       " u'Thursday, August 3rd, 2:26PM: tomato bisque was :100:',\n",
       " u'Thursday, August 3rd, 3:48PM: I had a good fruit roll-up today.',\n",
       " u'Friday, August 4th, 10:19AM: There be hot sauce now! :pray:',\n",
       " u'Friday, August 4th, 10:23AM: Bagel everything was good',\n",
       " u'Friday, August 4th, 10:23AM: Soups are generally very good',\n",
       " u'Friday, August 4th, 12:19PM: Prepared salad only 5 bucks',\n",
       " u'Friday, August 4th, 3:25PM: I got the Tomato, Mozz,arugula, sandwich toasted for $7. It was good!',\n",
       " u\"Friday, August 4th, 3:46PM: Btw I am working on getting data off of these channels to facilities...should have that happening early next week. So don't be upset w lack of response...just w me for not setting that up Before \"]"
      ]
     },
     "execution_count": 19,
     "metadata": {},
     "output_type": "execute_result"
    }
   ],
   "source": [
    "[\"%s: %s\" % (custom_strftime(\"%A, %B {S}, %-I:%M%p\", msg['datetime']), msg['text']) for msg in formatted_chats]"
   ]
  },
  {
   "cell_type": "code",
   "execution_count": 18,
   "metadata": {},
   "outputs": [],
   "source": [
    "# emit channel messages as markdown\n",
    "import re\n",
    "\n",
    "find_names_re = re.compile(r'<@([^>]+)>')\n",
    "find_emoji_re = re.compile(r':(?P<sn>[^:]+):(:(?P<mod>[^:]+):)?')\n",
    "\n",
    "def replace_name(m):\n",
    "    try:\n",
    "        return \"**@%s**\" % users_map[m.group(1)]\n",
    "    except KeyError:\n",
    "        return \"*%s*\" % m.group(0)\n",
    "    \n",
    "def replace_emoji(m):\n",
    "    try:\n",
    "        emoji = shortname_to_emoji[m.group('sn')]\n",
    "        \n",
    "        if m.group('mod') and 'skin_variations' in emoji:\n",
    "            # just print the emoji + variation out as two separate characters\n",
    "            mod = shortname_to_emoji[m.group('mod')]\n",
    "            # variation = emoji['skin_variations'][mod['unified']]\n",
    "            return \"&#x%s;&#x%s;\" % (emoji['unified'], mod['unified'])\n",
    "        else:\n",
    "            return \"&#x%s;\" % emoji['unified']\n",
    "    except KeyError:\n",
    "        return m.group(0)"
   ]
  },
  {
   "cell_type": "code",
   "execution_count": 24,
   "metadata": {},
   "outputs": [
    {
     "name": "stdout",
     "output_type": "stream",
     "text": [
      "Monday, July 31st, 2017 to Friday, August 4th, 2017\n"
     ]
    }
   ],
   "source": [
    "# compute bounds\n",
    "start_time = min(min(float(msg['ts']) for msg in messages) for messages in channel_comments.values())\n",
    "end_time = max(max(float(msg['ts']) for msg in messages) for messages in channel_comments.values())\n",
    "\n",
    "def localize_ts(ts, tzone='US/Eastern'):\n",
    "    return (datetime\n",
    "            .fromtimestamp(float(ts), timezone('UTC'))\n",
    "            .astimezone(timezone(tzone)))\n",
    "\n",
    "start_datetime, end_datetime = localize_ts(start_time), localize_ts(end_time)\n",
    "start_datestr, end_datestr = custom_strftime(\"%A, %B {S}, %Y\", start_datetime), custom_strftime(\"%A, %B {S}, %Y\", end_datetime)\n",
    "\n",
    "print \"%s to %s\" % (start_datestr, end_datestr)"
   ]
  },
  {
   "cell_type": "code",
   "execution_count": 70,
   "metadata": {},
   "outputs": [
    {
     "data": {
      "text/html": [
       "<div style=\"text-align: center; margin-bottom: 2em;\">\n",
       "<h1 style=\"margin-bottom: 0.5em; font-size: xx-large;\">Cornell Tech Weekly Digest</h1>\n",
       "<div style=\"font-size: large; line-height: 150%; color: #777;\">messages from <b style=\"color: black;\">#building_comments</b>, <b style=\"color: black;\">#cafe_comments</b><br />from <b style=\"color: black;\">Monday, July 31st, 2017</b> to <b style=\"color: black;\">Friday, August 4th, 2017</b></div>\n",
       "</div><div style=\"margin-left: auto; padding: 20px; padding-top: 10px; margin-right: auto; margin-bottom: 1em; max-width: 600px; border-radius: 3px; border: solid 1px #ccc;\"><h2 style=\"font-size: x-large;\">#building_comments</h2><hr color=\"#ccc\" size=\"1\" style=\"color: #ccc;\" /><h3 style=\"color: #555;\">Thursday, August 3rd</h3><ul style=\"margin-bottom: 0.5em;\"><li style=\"margin-bottom: 0.5em;\"><b style=\"font-size: larger;\">james_grimmelmann</b> <span style=\"color: #777; font-size: smaller;\">3:47 PM</span><br />Maybe <b style=\"color: #3393cc;\">@cornelltechsharebox</b> shouldn’t be part of this channel.</li><li style=\"margin-bottom: 0.5em;\"><b style=\"font-size: larger;\">james_grimmelmann</b> <span style=\"color: #777; font-size: smaller;\">3:47 PM</span><br />Anyway, WiFi (eduroam) in 2B today was on the edge of being unusable.</li><li style=\"margin-bottom: 0.5em;\"><b style=\"font-size: larger;\">mattvlaw</b> <span style=\"color: #777; font-size: smaller;\">3:49 PM</span><br />sorry I am trying to remove it</li><li style=\"margin-bottom: 0.5em;\"><b style=\"font-size: larger;\">mattvlaw</b> <span style=\"color: #777; font-size: smaller;\">3:59 PM</span><br />\\remove <b style=\"color: #3393cc;\">@cornelltechsharebox</b></li><li style=\"margin-bottom: 0.5em;\"><b style=\"font-size: larger;\">allie</b> <span style=\"color: #777; font-size: smaller;\">4:02 PM</span><br />Maybe we can borrow a working wifi, is that in the box? &#x1F642;</li><li style=\"margin-bottom: 0.5em;\"><b style=\"font-size: larger;\">mattvlaw</b> <span style=\"color: #777; font-size: smaller;\">4:07 PM</span><br />sorry, I don’t think I have the rights to kick the bot. I didn’t add it, either. can someone with rights please remove it? much appreciated.</li><li style=\"margin-bottom: 0.5em;\"><b style=\"font-size: larger;\">mattvlaw</b> <span style=\"color: #777; font-size: smaller;\">4:07 PM</span><br />exit</li></ul><h3 style=\"color: #555;\">Friday, August 4th</h3><ul style=\"margin-bottom: 0.5em;\"><li style=\"margin-bottom: 0.5em;\"><b style=\"font-size: larger;\">de226</b> <span style=\"color: #777; font-size: smaller;\">3:46 PM</span><br />Btw I am working on getting data off of these channels to facilities...should have that happening early next week. So don't be upset w lack of response...just w me for not setting that up Before </li></ul></div><div style=\"margin-left: auto; padding: 20px; padding-top: 10px; margin-right: auto; margin-bottom: 1em; max-width: 600px; border-radius: 3px; border: solid 1px #ccc;\"><h2 style=\"font-size: x-large;\">#cafe_comments</h2><hr color=\"#ccc\" size=\"1\" style=\"color: #ccc;\" /><h3 style=\"color: #555;\">Monday, July 31st</h3><ul style=\"margin-bottom: 0.5em;\"><li style=\"margin-bottom: 0.5em;\"><b style=\"font-size: larger;\">eugene</b> <span style=\"color: #777; font-size: smaller;\">1:55 PM</span><br /><b style=\"color: #3393cc;\">@destrin</b> </li><li style=\"margin-bottom: 0.5em;\"><b style=\"font-size: larger;\">eugene</b> <span style=\"color: #777; font-size: smaller;\">6:36 PM</span><br />Hey </li><li style=\"margin-bottom: 0.5em;\"><b style=\"font-size: larger;\">eugene</b> <span style=\"color: #777; font-size: smaller;\">7:02 PM</span><br /><b style=\"color: #3393cc;\">@de226</b> <b style=\"color: #3393cc;\">@destrin</b> </li><li style=\"margin-bottom: 0.5em;\"><b style=\"font-size: larger;\">de226</b> <span style=\"color: #777; font-size: smaller;\">7:40 PM</span><br />White bean soup was great</li><li style=\"margin-bottom: 0.5em;\"><b style=\"font-size: larger;\">de226</b> <span style=\"color: #777; font-size: smaller;\">7:40 PM</span><br />Fresh peach was not edible </li><li style=\"margin-bottom: 0.5em;\"><b style=\"font-size: larger;\">de226</b> <span style=\"color: #777; font-size: smaller;\">7:41 PM</span><br />Double espresso was perfect</li></ul><h3 style=\"color: #555;\">Tuesday, August 1st</h3><ul style=\"margin-bottom: 0.5em;\"><li style=\"margin-bottom: 0.5em;\"><b style=\"font-size: larger;\">de226</b> <span style=\"color: #777; font-size: smaller;\">1:09 PM</span><br />2nd day in a row of perfect espresso</li><li style=\"margin-bottom: 0.5em;\"><b style=\"font-size: larger;\">de226</b> <span style=\"color: #777; font-size: smaller;\">1:10 PM</span><br />Studybot campus-survey</li><li style=\"margin-bottom: 0.5em;\"><b style=\"font-size: larger;\">de226</b> <span style=\"color: #777; font-size: smaller;\">1:11 PM</span><br />studybot campus-survey</li><li style=\"margin-bottom: 0.5em;\"><b style=\"font-size: larger;\">mdgriffith</b> <span style=\"color: #777; font-size: smaller;\">2:26 PM</span><br />Had a sandwich: turkey, mozzarella, all the veggies on multigrain.  It was very good.</li></ul><h3 style=\"color: #555;\">Wednesday, August 2nd</h3><ul style=\"margin-bottom: 0.5em;\"><li style=\"margin-bottom: 0.5em;\"><b style=\"font-size: larger;\">julianakm</b> <span style=\"color: #777; font-size: smaller;\">9:07 AM</span><br />made to order omelette: (turkey, onions, and peppers): well-seasoned and perfectly cooked. (the _only_ thing is the cafe is still waiting on hot sauce..) but other than that, glowing reviews for breakfast!</li><li style=\"margin-bottom: 0.5em;\"><b style=\"font-size: larger;\">mbweissman</b> <span style=\"color: #777; font-size: smaller;\">9:41 AM</span><br />Coffee has been great, and I agree with julianakm - omelette is really good, and they're getting quicker are preparing them.</li><li style=\"margin-bottom: 0.5em;\"><b style=\"font-size: larger;\">mbweissman</b> <span style=\"color: #777; font-size: smaller;\">9:44 AM</span><br />*at</li><li style=\"margin-bottom: 0.5em;\"><b style=\"font-size: larger;\">allie</b> <span style=\"color: #777; font-size: smaller;\">10:24 AM</span><br />I'm hoping they'll get some small protein salads free of starches/grains. (Like a small container of chicken salad, tuna, etc.) Quite a few people on campus are avoiding those for medical and health reasons so something quick &amp; protein-rich besides the full salad bar would be good.</li><li style=\"margin-bottom: 0.5em;\"><b style=\"font-size: larger;\">kam1228</b> <span style=\"color: #777; font-size: smaller;\">10:40 AM</span><br />I suggest having an option for a cup of soup and a half salad.  My other suggestion is to have a shaker bottle of cinnamon to add to coffee.</li><li style=\"margin-bottom: 0.5em;\"><b style=\"font-size: larger;\">haleybissegger</b> <span style=\"color: #777; font-size: smaller;\">12:04 PM</span><br />I'd like to see coconut milk as another alternative milk option.</li><li style=\"margin-bottom: 0.5em;\"><b style=\"font-size: larger;\">haleybissegger</b> <span style=\"color: #777; font-size: smaller;\">12:07 PM</span><br />Also, apple pay &#x1F642;</li><li style=\"margin-bottom: 0.5em;\"><b style=\"font-size: larger;\">julianakm</b> <span style=\"color: #777; font-size: smaller;\">4:32 PM</span><br />I would like to second <b style=\"color: #3393cc;\">@haleybissegger</b> 's request for an alternative milk options... and throw in a vote for Unsweetened Almond Milk (Throwback to #15th floor life)</li></ul><h3 style=\"color: #555;\">Thursday, August 3rd</h3><ul style=\"margin-bottom: 0.5em;\"><li style=\"margin-bottom: 0.5em;\"><b style=\"font-size: larger;\">allie</b> <span style=\"color: #777; font-size: smaller;\">2:26 PM</span><br />tomato bisque was &#x1F4AF;</li><li style=\"margin-bottom: 0.5em;\"><b style=\"font-size: larger;\">james_grimmelmann</b> <span style=\"color: #777; font-size: smaller;\">3:48 PM</span><br />I had a good fruit roll-up today.</li></ul><h3 style=\"color: #555;\">Friday, August 4th</h3><ul style=\"margin-bottom: 0.5em;\"><li style=\"margin-bottom: 0.5em;\"><b style=\"font-size: larger;\">julianakm</b> <span style=\"color: #777; font-size: smaller;\">10:19 AM</span><br />There be hot sauce now! &#x1F64F;</li><li style=\"margin-bottom: 0.5em;\"><b style=\"font-size: larger;\">sobolevmic</b> <span style=\"color: #777; font-size: smaller;\">10:23 AM</span><br />Bagel everything was good</li><li style=\"margin-bottom: 0.5em;\"><b style=\"font-size: larger;\">sobolevmic</b> <span style=\"color: #777; font-size: smaller;\">10:23 AM</span><br />Soups are generally very good</li><li style=\"margin-bottom: 0.5em;\"><b style=\"font-size: larger;\">de226</b> <span style=\"color: #777; font-size: smaller;\">12:19 PM</span><br />Prepared salad only 5 bucks</li><li style=\"margin-bottom: 0.5em;\"><b style=\"font-size: larger;\">kristinaortiz</b> <span style=\"color: #777; font-size: smaller;\">3:25 PM</span><br />I got the Tomato, Mozz,arugula, sandwich toasted for $7. It was good!</li><li style=\"margin-bottom: 0.5em;\"><b style=\"font-size: larger;\">de226</b> <span style=\"color: #777; font-size: smaller;\">3:46 PM</span><br />Btw I am working on getting data off of these channels to facilities...should have that happening early next week. So don't be upset w lack of response...just w me for not setting that up Before </li></ul></div>"
      ],
      "text/plain": [
       "<IPython.core.display.HTML object>"
      ]
     },
     "metadata": {},
     "output_type": "display_data"
    }
   ],
   "source": [
    "# html version\n",
    "\n",
    "def replace_name_html(m):\n",
    "    try:\n",
    "        return '<b style=\"color: #3393cc;\">@%s</b>' % users_map[m.group(1)]\n",
    "    except KeyError:\n",
    "        return \"<b>%s</b>\" % m.group(0)\n",
    "\n",
    "# gathers output for emission\n",
    "emissions = []\n",
    "def emit(mkdown):\n",
    "    global emissions\n",
    "    emissions.append(mkdown)\n",
    "\n",
    "emit(HTML(\"\"\"<div style=\"text-align: center; margin-bottom: 2em;\">\n",
    "<h1 style=\"margin-bottom: 0.5em; font-size: xx-large;\">Cornell Tech Weekly Digest</h1>\n",
    "<div style=\"font-size: large; line-height: 150%%; color: #777;\">messages from %(channel_list)s<br />from %(start_datestr)s to %(end_datestr)s</div>\n",
    "</div>\"\"\" % {\n",
    "    'channel_list': \", \".join([('<b style=\"color: black;\">#%s</b>' % name) for name in channel_comments]),\n",
    "    'start_datestr': '<b style=\"color: black;\">%s</b>' % start_datestr,\n",
    "    'end_datestr': '<b style=\"color: black;\">%s</b>' % end_datestr\n",
    "}))\n",
    "\n",
    "# actually iterate over the messages now\n",
    "for channel_name, comments in channel_comments.items():\n",
    "    personal_messages = [\n",
    "        msg for msg in reversed(comments)\n",
    "        # if msg['type'] == 'message' and 'subtype' not in msg\n",
    "        if msg['type'] == 'message' and 'subtype' not in msg and 'thread_ts' not in msg\n",
    "    ]\n",
    "    localized_chats = [\n",
    "        {\n",
    "            'datetime': (datetime\n",
    "            .fromtimestamp(float(msg['ts']), timezone('UTC'))\n",
    "            .astimezone(timezone('US/Eastern'))),\n",
    "            'text': msg['text'],\n",
    "            'user': msg['user']\n",
    "        }\n",
    "        for msg in personal_messages\n",
    "    ]\n",
    "    \n",
    "    # actually print stuff now\n",
    "    \n",
    "    emit(HTML('<div style=\"margin-left: auto; padding: 20px; padding-top: 10px; margin-right: auto; margin-bottom: 1em; max-width: 600px; border-radius: 3px; border: solid 1px #ccc;\">'))\n",
    "    \n",
    "    emit(HTML('<h2 style=\"font-size: x-large;\">#%s</h2><hr color=\"#ccc\" size=\"1\" style=\"color: #ccc;\" />' % channel_name))\n",
    "\n",
    "    for day, messages in groupby(localized_chats, lambda x: custom_strftime(\"%A, %B {S}\", x['datetime'])):\n",
    "        emit(HTML('<h3 style=\"color: #555;\">%s</h3>' % day))\n",
    "        emit(HTML('<ul style=\"margin-bottom: 0.5em;\">'))\n",
    "        \n",
    "        for message in messages:\n",
    "            final_text = find_names_re.sub(replace_name_html, message['text'])\n",
    "            final_text = find_emoji_re.sub(replace_emoji, final_text)\n",
    "            \n",
    "            data = {\n",
    "                'text': final_text,\n",
    "                'timeofday': custom_strftime(\"%-I:%M %p\", message['datetime']),\n",
    "                'author': users_map[message['user']]\n",
    "            }\n",
    "            emit(HTML(\"\"\"<li style=\"margin-bottom: 0.5em;\"><b style=\"font-size: larger;\">%(author)s</b> <span style=\"color: #777; font-size: smaller;\">%(timeofday)s</span><br />%(text)s</li>\"\"\" % data))\n",
    "        \n",
    "        emit(HTML(\"</ul>\"))\n",
    "        \n",
    "    emit(HTML(\"</div>\"))\n",
    "        \n",
    "# ...and final processing/display\n",
    "\n",
    "display(HTML(\"\".join([em.data for em in emissions])))"
   ]
  },
  {
   "cell_type": "markdown",
   "metadata": {},
   "source": [
    "# Email result"
   ]
  },
  {
   "cell_type": "code",
   "execution_count": 22,
   "metadata": {},
   "outputs": [],
   "source": [
    "import yagmail"
   ]
  },
  {
   "cell_type": "code",
   "execution_count": 74,
   "metadata": {},
   "outputs": [
    {
     "data": {
      "text/plain": [
       "{}"
      ]
     },
     "execution_count": 74,
     "metadata": {},
     "output_type": "execute_result"
    }
   ],
   "source": [
    "# ensure that we're still connected\n",
    "yag = yagmail.SMTP('falquaddoomi')\n",
    "\n",
    "from markdown import markdown\n",
    "html = \"\"\n",
    "\n",
    "for em in emissions:\n",
    "    if type(em) == Markdown:\n",
    "        html += markdown(em.data, safe_mode='escape')\n",
    "    else:\n",
    "        html += em.data\n",
    "\n",
    "# html = \"\".join([markdown(x.data, safe_mode='escape') for x in emissions])\n",
    "html = find_emoji_re.sub(replace_emoji, html)\n",
    "\n",
    "yag.send('falquaddoomi@gmail.com', 'Cornell Tech Weekly Digest (rev2)', html)"
   ]
  }
 ],
 "metadata": {
  "kernelspec": {
   "display_name": "Python 2",
   "language": "python",
   "name": "python2"
  },
  "language_info": {
   "codemirror_mode": {
    "name": "ipython",
    "version": 2
   },
   "file_extension": ".py",
   "mimetype": "text/x-python",
   "name": "python",
   "nbconvert_exporter": "python",
   "pygments_lexer": "ipython2",
   "version": "2.7.13"
  }
 },
 "nbformat": 4,
 "nbformat_minor": 2
}
